{
 "cells": [
  {
   "cell_type": "code",
   "execution_count": 44,
   "id": "7dd5befe-116b-41a1-9095-f6b08fb66105",
   "metadata": {},
   "outputs": [],
   "source": [
    "import pandas as pd\n",
    "import numpy as np\n",
    "import matplotlib.pyplot as plt\n",
    "from sklearn.impute import KNNImputer\n",
    "import windrose\n",
    "import seaborn as sns\n",
    "from scipy.interpolate import make_interp_spline"
   ]
  },
  {
   "cell_type": "code",
   "execution_count": 10,
   "id": "787b5c35-044c-4a5a-a025-17266c28cdac",
   "metadata": {},
   "outputs": [],
   "source": [
    "may = pd.read_csv('May.csv')\n",
    "june = pd.read_csv('June.csv')\n",
    "july = pd.read_csv('July.csv')"
   ]
  },
  {
   "cell_type": "code",
   "execution_count": 11,
   "id": "0ded4302-fdde-4350-91d3-19f6ccd82b53",
   "metadata": {},
   "outputs": [],
   "source": [
    "wind = pd.concat([may[135:],june,july])"
   ]
  },
  {
   "cell_type": "code",
   "execution_count": 12,
   "id": "41d44d0a-c519-4d80-b6e4-c5588e9d6efc",
   "metadata": {
    "tags": []
   },
   "outputs": [
    {
     "data": {
      "text/html": [
       "<div>\n",
       "<style scoped>\n",
       "    .dataframe tbody tr th:only-of-type {\n",
       "        vertical-align: middle;\n",
       "    }\n",
       "\n",
       "    .dataframe tbody tr th {\n",
       "        vertical-align: top;\n",
       "    }\n",
       "\n",
       "    .dataframe thead th {\n",
       "        text-align: right;\n",
       "    }\n",
       "</style>\n",
       "<table border=\"1\" class=\"dataframe\">\n",
       "  <thead>\n",
       "    <tr style=\"text-align: right;\">\n",
       "      <th></th>\n",
       "      <th>windspeed</th>\n",
       "      <th>direction</th>\n",
       "    </tr>\n",
       "  </thead>\n",
       "  <tbody>\n",
       "    <tr>\n",
       "      <th>2022-05-13 12:00:00</th>\n",
       "      <td>1.46</td>\n",
       "      <td>68.00</td>\n",
       "    </tr>\n",
       "    <tr>\n",
       "      <th>2022-05-13 13:00:00</th>\n",
       "      <td>2.98</td>\n",
       "      <td>72.62</td>\n",
       "    </tr>\n",
       "    <tr>\n",
       "      <th>2022-05-13 14:00:00</th>\n",
       "      <td>5.81</td>\n",
       "      <td>71.18</td>\n",
       "    </tr>\n",
       "    <tr>\n",
       "      <th>2022-05-13 15:00:00</th>\n",
       "      <td>6.98</td>\n",
       "      <td>57.97</td>\n",
       "    </tr>\n",
       "    <tr>\n",
       "      <th>2022-05-13 16:00:00</th>\n",
       "      <td>6.23</td>\n",
       "      <td>56.73</td>\n",
       "    </tr>\n",
       "    <tr>\n",
       "      <th>...</th>\n",
       "      <td>...</td>\n",
       "      <td>...</td>\n",
       "    </tr>\n",
       "    <tr>\n",
       "      <th>2022-07-29 03:00:00</th>\n",
       "      <td>0.95</td>\n",
       "      <td>188.67</td>\n",
       "    </tr>\n",
       "    <tr>\n",
       "      <th>2022-07-29 04:00:00</th>\n",
       "      <td>0.69</td>\n",
       "      <td>264.97</td>\n",
       "    </tr>\n",
       "    <tr>\n",
       "      <th>2022-07-29 05:00:00</th>\n",
       "      <td>0.42</td>\n",
       "      <td>276.30</td>\n",
       "    </tr>\n",
       "    <tr>\n",
       "      <th>2022-07-29 06:00:00</th>\n",
       "      <td>0.73</td>\n",
       "      <td>258.35</td>\n",
       "    </tr>\n",
       "    <tr>\n",
       "      <th>2022-07-29 07:00:00</th>\n",
       "      <td>1.17</td>\n",
       "      <td>273.50</td>\n",
       "    </tr>\n",
       "  </tbody>\n",
       "</table>\n",
       "<p>1844 rows × 2 columns</p>\n",
       "</div>"
      ],
      "text/plain": [
       "                     windspeed  direction\n",
       "2022-05-13 12:00:00       1.46      68.00\n",
       "2022-05-13 13:00:00       2.98      72.62\n",
       "2022-05-13 14:00:00       5.81      71.18\n",
       "2022-05-13 15:00:00       6.98      57.97\n",
       "2022-05-13 16:00:00       6.23      56.73\n",
       "...                        ...        ...\n",
       "2022-07-29 03:00:00       0.95     188.67\n",
       "2022-07-29 04:00:00       0.69     264.97\n",
       "2022-07-29 05:00:00       0.42     276.30\n",
       "2022-07-29 06:00:00       0.73     258.35\n",
       "2022-07-29 07:00:00       1.17     273.50\n",
       "\n",
       "[1844 rows x 2 columns]"
      ]
     },
     "execution_count": 12,
     "metadata": {},
     "output_type": "execute_result"
    }
   ],
   "source": [
    "wind.index = pd.to_datetime(wind[['year', 'month', 'day', 'hour', 'minute']])\n",
    "wind_clean = wind[['windspeed', 'direction']].resample('H').mean().round(2)\n",
    "wind_clean"
   ]
  },
  {
   "cell_type": "code",
   "execution_count": 13,
   "id": "8cb493ca-216a-4523-9c3b-0271ae10527f",
   "metadata": {},
   "outputs": [],
   "source": [
    "wind_dropped = wind_clean.dropna(how='any',axis=0)\n",
    "wind_dropped.to_csv('wind.csv')"
   ]
  },
  {
   "cell_type": "code",
   "execution_count": 14,
   "id": "ad35fd01-cbec-475e-a249-c1410b8d94c0",
   "metadata": {},
   "outputs": [],
   "source": [
    "bins = bins = np.linspace(0,360,9)+22.5\n",
    "bins = np.insert(bins,0,0)\n",
    "labels = [\"N\",\"NE\",\"E\",\"SE\",\"S\",\"SW\",\"W\",\"NW\",\"N2\"]"
   ]
  },
  {
   "cell_type": "code",
   "execution_count": 15,
   "id": "65c61ae1-c7cc-4d91-90d4-d373b1062da3",
   "metadata": {
    "tags": []
   },
   "outputs": [
    {
     "name": "stderr",
     "output_type": "stream",
     "text": [
      "<ipython-input-15-1ce3145cca57>:1: SettingWithCopyWarning: \n",
      "A value is trying to be set on a copy of a slice from a DataFrame.\n",
      "Try using .loc[row_indexer,col_indexer] = value instead\n",
      "\n",
      "See the caveats in the documentation: https://pandas.pydata.org/pandas-docs/stable/user_guide/indexing.html#returning-a-view-versus-a-copy\n",
      "  wind_dropped['wind direction'] = pd.cut(wind_dropped.direction, bins=bins, labels=labels, include_lowest=True)\n",
      "C:\\Users\\Panos\\anaconda3\\lib\\site-packages\\pandas\\core\\series.py:4509: SettingWithCopyWarning: \n",
      "A value is trying to be set on a copy of a slice from a DataFrame\n",
      "\n",
      "See the caveats in the documentation: https://pandas.pydata.org/pandas-docs/stable/user_guide/indexing.html#returning-a-view-versus-a-copy\n",
      "  return super().replace(\n"
     ]
    },
    {
     "data": {
      "text/html": [
       "<div>\n",
       "<style scoped>\n",
       "    .dataframe tbody tr th:only-of-type {\n",
       "        vertical-align: middle;\n",
       "    }\n",
       "\n",
       "    .dataframe tbody tr th {\n",
       "        vertical-align: top;\n",
       "    }\n",
       "\n",
       "    .dataframe thead th {\n",
       "        text-align: right;\n",
       "    }\n",
       "</style>\n",
       "<table border=\"1\" class=\"dataframe\">\n",
       "  <thead>\n",
       "    <tr style=\"text-align: right;\">\n",
       "      <th></th>\n",
       "      <th>windspeed</th>\n",
       "      <th>direction</th>\n",
       "      <th>wind direction</th>\n",
       "    </tr>\n",
       "  </thead>\n",
       "  <tbody>\n",
       "    <tr>\n",
       "      <th>2022-05-13 12:00:00</th>\n",
       "      <td>1.46</td>\n",
       "      <td>68.00</td>\n",
       "      <td>E</td>\n",
       "    </tr>\n",
       "    <tr>\n",
       "      <th>2022-05-13 13:00:00</th>\n",
       "      <td>2.98</td>\n",
       "      <td>72.62</td>\n",
       "      <td>E</td>\n",
       "    </tr>\n",
       "    <tr>\n",
       "      <th>2022-05-13 14:00:00</th>\n",
       "      <td>5.81</td>\n",
       "      <td>71.18</td>\n",
       "      <td>E</td>\n",
       "    </tr>\n",
       "    <tr>\n",
       "      <th>2022-05-13 15:00:00</th>\n",
       "      <td>6.98</td>\n",
       "      <td>57.97</td>\n",
       "      <td>NE</td>\n",
       "    </tr>\n",
       "    <tr>\n",
       "      <th>2022-05-13 16:00:00</th>\n",
       "      <td>6.23</td>\n",
       "      <td>56.73</td>\n",
       "      <td>NE</td>\n",
       "    </tr>\n",
       "  </tbody>\n",
       "</table>\n",
       "</div>"
      ],
      "text/plain": [
       "                     windspeed  direction wind direction\n",
       "2022-05-13 12:00:00       1.46      68.00              E\n",
       "2022-05-13 13:00:00       2.98      72.62              E\n",
       "2022-05-13 14:00:00       5.81      71.18              E\n",
       "2022-05-13 15:00:00       6.98      57.97             NE\n",
       "2022-05-13 16:00:00       6.23      56.73             NE"
      ]
     },
     "execution_count": 15,
     "metadata": {},
     "output_type": "execute_result"
    }
   ],
   "source": [
    "wind_dropped['wind direction'] = pd.cut(wind_dropped.direction, bins=bins, labels=labels, include_lowest=True)\n",
    "wind_dropped['wind direction'].replace('N2','N', inplace=True)\n",
    "wind_dropped.head()"
   ]
  },
  {
   "cell_type": "code",
   "execution_count": 16,
   "id": "367022f0-baee-4aaf-8afd-7ed58b081587",
   "metadata": {},
   "outputs": [
    {
     "name": "stderr",
     "output_type": "stream",
     "text": [
      "C:\\Users\\Panos\\anaconda3\\lib\\site-packages\\pandas\\core\\indexing.py:1597: SettingWithCopyWarning: \n",
      "A value is trying to be set on a copy of a slice from a DataFrame.\n",
      "Try using .loc[row_indexer,col_indexer] = value instead\n",
      "\n",
      "See the caveats in the documentation: https://pandas.pydata.org/pandas-docs/stable/user_guide/indexing.html#returning-a-view-versus-a-copy\n",
      "  self.obj[key] = value\n",
      "C:\\Users\\Panos\\anaconda3\\lib\\site-packages\\pandas\\core\\indexing.py:1676: SettingWithCopyWarning: \n",
      "A value is trying to be set on a copy of a slice from a DataFrame.\n",
      "Try using .loc[row_indexer,col_indexer] = value instead\n",
      "\n",
      "See the caveats in the documentation: https://pandas.pydata.org/pandas-docs/stable/user_guide/indexing.html#returning-a-view-versus-a-copy\n",
      "  self._setitem_single_column(ilocs[0], value, pi)\n"
     ]
    },
    {
     "data": {
      "text/html": [
       "<div>\n",
       "<style scoped>\n",
       "    .dataframe tbody tr th:only-of-type {\n",
       "        vertical-align: middle;\n",
       "    }\n",
       "\n",
       "    .dataframe tbody tr th {\n",
       "        vertical-align: top;\n",
       "    }\n",
       "\n",
       "    .dataframe thead th {\n",
       "        text-align: right;\n",
       "    }\n",
       "</style>\n",
       "<table border=\"1\" class=\"dataframe\">\n",
       "  <thead>\n",
       "    <tr style=\"text-align: right;\">\n",
       "      <th></th>\n",
       "      <th>windspeed</th>\n",
       "      <th>direction</th>\n",
       "      <th>wind direction</th>\n",
       "      <th>frequency</th>\n",
       "    </tr>\n",
       "  </thead>\n",
       "  <tbody>\n",
       "    <tr>\n",
       "      <th>2022-05-13 12:00:00</th>\n",
       "      <td>1.46</td>\n",
       "      <td>68.00</td>\n",
       "      <td>E</td>\n",
       "      <td>0.267949</td>\n",
       "    </tr>\n",
       "    <tr>\n",
       "      <th>2022-05-13 13:00:00</th>\n",
       "      <td>2.98</td>\n",
       "      <td>72.62</td>\n",
       "      <td>E</td>\n",
       "      <td>0.267949</td>\n",
       "    </tr>\n",
       "    <tr>\n",
       "      <th>2022-05-13 14:00:00</th>\n",
       "      <td>5.81</td>\n",
       "      <td>71.18</td>\n",
       "      <td>E</td>\n",
       "      <td>0.267949</td>\n",
       "    </tr>\n",
       "    <tr>\n",
       "      <th>2022-05-13 15:00:00</th>\n",
       "      <td>6.98</td>\n",
       "      <td>57.97</td>\n",
       "      <td>NE</td>\n",
       "      <td>0.150000</td>\n",
       "    </tr>\n",
       "    <tr>\n",
       "      <th>2022-05-13 16:00:00</th>\n",
       "      <td>6.23</td>\n",
       "      <td>56.73</td>\n",
       "      <td>NE</td>\n",
       "      <td>0.150000</td>\n",
       "    </tr>\n",
       "    <tr>\n",
       "      <th>...</th>\n",
       "      <td>...</td>\n",
       "      <td>...</td>\n",
       "      <td>...</td>\n",
       "      <td>...</td>\n",
       "    </tr>\n",
       "    <tr>\n",
       "      <th>2022-07-29 03:00:00</th>\n",
       "      <td>0.95</td>\n",
       "      <td>188.67</td>\n",
       "      <td>S</td>\n",
       "      <td>0.106410</td>\n",
       "    </tr>\n",
       "    <tr>\n",
       "      <th>2022-07-29 04:00:00</th>\n",
       "      <td>0.69</td>\n",
       "      <td>264.97</td>\n",
       "      <td>W</td>\n",
       "      <td>0.168590</td>\n",
       "    </tr>\n",
       "    <tr>\n",
       "      <th>2022-07-29 05:00:00</th>\n",
       "      <td>0.42</td>\n",
       "      <td>276.30</td>\n",
       "      <td>W</td>\n",
       "      <td>0.168590</td>\n",
       "    </tr>\n",
       "    <tr>\n",
       "      <th>2022-07-29 06:00:00</th>\n",
       "      <td>0.73</td>\n",
       "      <td>258.35</td>\n",
       "      <td>W</td>\n",
       "      <td>0.168590</td>\n",
       "    </tr>\n",
       "    <tr>\n",
       "      <th>2022-07-29 07:00:00</th>\n",
       "      <td>1.17</td>\n",
       "      <td>273.50</td>\n",
       "      <td>W</td>\n",
       "      <td>0.168590</td>\n",
       "    </tr>\n",
       "  </tbody>\n",
       "</table>\n",
       "<p>1560 rows × 4 columns</p>\n",
       "</div>"
      ],
      "text/plain": [
       "                     windspeed  direction wind direction  frequency\n",
       "2022-05-13 12:00:00       1.46      68.00              E   0.267949\n",
       "2022-05-13 13:00:00       2.98      72.62              E   0.267949\n",
       "2022-05-13 14:00:00       5.81      71.18              E   0.267949\n",
       "2022-05-13 15:00:00       6.98      57.97             NE   0.150000\n",
       "2022-05-13 16:00:00       6.23      56.73             NE   0.150000\n",
       "...                        ...        ...            ...        ...\n",
       "2022-07-29 03:00:00       0.95     188.67              S   0.106410\n",
       "2022-07-29 04:00:00       0.69     264.97              W   0.168590\n",
       "2022-07-29 05:00:00       0.42     276.30              W   0.168590\n",
       "2022-07-29 06:00:00       0.73     258.35              W   0.168590\n",
       "2022-07-29 07:00:00       1.17     273.50              W   0.168590\n",
       "\n",
       "[1560 rows x 4 columns]"
      ]
     },
     "execution_count": 16,
     "metadata": {},
     "output_type": "execute_result"
    }
   ],
   "source": [
    "freq = wind_dropped['wind direction'].value_counts()\n",
    "wind_dropped.loc[:,'frequency'] = freq[wind_dropped['wind direction']].values / freq.sum()\n",
    "wind_dropped"
   ]
  },
  {
   "cell_type": "code",
   "execution_count": 58,
   "id": "718441ac-5cd0-4f64-b547-25d6a0d70812",
   "metadata": {},
   "outputs": [],
   "source": [
    "wind_dropped.to_csv('wind_cardinal.csv')"
   ]
  },
  {
   "cell_type": "code",
   "execution_count": 51,
   "id": "a8579cad-43e6-42c9-b9ca-948a6450ffdb",
   "metadata": {},
   "outputs": [
    {
     "data": {
      "text/plain": [
       "0     SW\n",
       "1     SW\n",
       "2      W\n",
       "3     SW\n",
       "4     SW\n",
       "5     SW\n",
       "6     SW\n",
       "7     SW\n",
       "8      E\n",
       "9      E\n",
       "10     E\n",
       "11     E\n",
       "12    NE\n",
       "13     E\n",
       "14     E\n",
       "15     E\n",
       "16    NE\n",
       "17     E\n",
       "18     E\n",
       "19     E\n",
       "20     E\n",
       "21     W\n",
       "22     W\n",
       "23     W\n",
       "Name: wind direction, dtype: object"
      ]
     },
     "execution_count": 51,
     "metadata": {},
     "output_type": "execute_result"
    }
   ],
   "source": [
    "typical_24 = wind_dropped['wind direction'].groupby(wind_dropped.index.hour).agg(pd.Series.mode)\n",
    "typical_24"
   ]
  },
  {
   "cell_type": "code",
   "execution_count": 57,
   "id": "ffcb7871-666e-4d54-91f8-81e70c42c567",
   "metadata": {},
   "outputs": [
    {
     "data": {
      "image/png": "[encoded data removed]",
      "text/plain": [
       "<Figure size 720x432 with 1 Axes>"
      ]
     },
     "metadata": {
      "needs_background": "light"
     },
     "output_type": "display_data"
    }
   ],
   "source": [
    "plt.figure(figsize=(10,6))\n",
    "plt.plot(typical_24.index, typical_24.values)\n",
    "plt.gca().invert_yaxis()\n",
    "plt.xticks(np.arange(0,24,5))\n",
    "plt.show()"
   ]
  },
  {
   "cell_type": "code",
   "execution_count": null,
   "id": "57b07952-1f9a-4967-afef-fe06c00860d1",
   "metadata": {},
   "outputs": [],
   "source": []
  }
 ],
 "metadata": {
  "kernelspec": {
   "display_name": "Python 3",
   "language": "python",
   "name": "python3"
  },
  "language_info": {
   "codemirror_mode": {
    "name": "ipython",
    "version": 3
   },
   "file_extension": ".py",
   "mimetype": "text/x-python",
   "name": "python",
   "nbconvert_exporter": "python",
   "pygments_lexer": "ipython3",
   "version": "3.8.8"
  }
 },
 "nbformat": 4,
 "nbformat_minor": 5
}
