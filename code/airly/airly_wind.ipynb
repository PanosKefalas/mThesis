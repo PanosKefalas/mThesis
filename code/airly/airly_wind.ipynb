{
 "cells": [
  {
   "cell_type": "code",
   "execution_count": 5,
   "id": "b8fc6d73-f11c-401e-b347-64c5ac8c9478",
   "metadata": {},
   "outputs": [],
   "source": [
    "import pandas as pd\n",
    "import matplotlib.pyplot as plt\n",
    "import numpy as np\n",
    "import seaborn as sns"
   ]
  },
  {
   "cell_type": "code",
   "execution_count": 6,
   "id": "811a729b-1547-466c-ab08-df3ce97fe858",
   "metadata": {},
   "outputs": [],
   "source": [
    "airly = pd.read_csv('airly_filled.csv', parse_dates=[0], index_col=0)\n",
    "wind = pd.read_csv('wind.csv', parse_dates=[0], index_col=0)"
   ]
  },
  {
   "cell_type": "code",
   "execution_count": 7,
   "id": "367072c3-ad77-4a1f-ba02-2699bf143681",
   "metadata": {},
   "outputs": [
    {
     "data": {
      "text/html": [
       "<div>\n",
       "<style scoped>\n",
       "    .dataframe tbody tr th:only-of-type {\n",
       "        vertical-align: middle;\n",
       "    }\n",
       "\n",
       "    .dataframe tbody tr th {\n",
       "        vertical-align: top;\n",
       "    }\n",
       "\n",
       "    .dataframe thead th {\n",
       "        text-align: right;\n",
       "    }\n",
       "</style>\n",
       "<table border=\"1\" class=\"dataframe\">\n",
       "  <thead>\n",
       "    <tr style=\"text-align: right;\">\n",
       "      <th></th>\n",
       "      <th>PM1 (ug/m3)</th>\n",
       "      <th>PM2.5 (ug/m3)</th>\n",
       "      <th>PM10 (ug/m3)</th>\n",
       "      <th>windspeed</th>\n",
       "      <th>direction</th>\n",
       "    </tr>\n",
       "  </thead>\n",
       "  <tbody>\n",
       "    <tr>\n",
       "      <th>2022-05-13 12:00:00</th>\n",
       "      <td>9.0</td>\n",
       "      <td>12.0</td>\n",
       "      <td>17.0</td>\n",
       "      <td>1.46</td>\n",
       "      <td>68.00</td>\n",
       "    </tr>\n",
       "    <tr>\n",
       "      <th>2022-05-13 13:00:00</th>\n",
       "      <td>8.0</td>\n",
       "      <td>11.0</td>\n",
       "      <td>16.0</td>\n",
       "      <td>2.98</td>\n",
       "      <td>72.62</td>\n",
       "    </tr>\n",
       "    <tr>\n",
       "      <th>2022-05-13 14:00:00</th>\n",
       "      <td>8.0</td>\n",
       "      <td>10.0</td>\n",
       "      <td>13.0</td>\n",
       "      <td>5.81</td>\n",
       "      <td>71.18</td>\n",
       "    </tr>\n",
       "    <tr>\n",
       "      <th>2022-05-13 15:00:00</th>\n",
       "      <td>6.0</td>\n",
       "      <td>8.0</td>\n",
       "      <td>11.0</td>\n",
       "      <td>6.98</td>\n",
       "      <td>57.97</td>\n",
       "    </tr>\n",
       "    <tr>\n",
       "      <th>2022-05-13 16:00:00</th>\n",
       "      <td>6.0</td>\n",
       "      <td>7.0</td>\n",
       "      <td>9.0</td>\n",
       "      <td>6.23</td>\n",
       "      <td>56.73</td>\n",
       "    </tr>\n",
       "    <tr>\n",
       "      <th>...</th>\n",
       "      <td>...</td>\n",
       "      <td>...</td>\n",
       "      <td>...</td>\n",
       "      <td>...</td>\n",
       "      <td>...</td>\n",
       "    </tr>\n",
       "    <tr>\n",
       "      <th>2022-07-29 03:00:00</th>\n",
       "      <td>12.0</td>\n",
       "      <td>17.0</td>\n",
       "      <td>28.0</td>\n",
       "      <td>0.95</td>\n",
       "      <td>188.67</td>\n",
       "    </tr>\n",
       "    <tr>\n",
       "      <th>2022-07-29 04:00:00</th>\n",
       "      <td>13.0</td>\n",
       "      <td>17.0</td>\n",
       "      <td>30.0</td>\n",
       "      <td>0.69</td>\n",
       "      <td>264.97</td>\n",
       "    </tr>\n",
       "    <tr>\n",
       "      <th>2022-07-29 05:00:00</th>\n",
       "      <td>12.0</td>\n",
       "      <td>17.0</td>\n",
       "      <td>29.0</td>\n",
       "      <td>0.42</td>\n",
       "      <td>276.30</td>\n",
       "    </tr>\n",
       "    <tr>\n",
       "      <th>2022-07-29 06:00:00</th>\n",
       "      <td>11.0</td>\n",
       "      <td>15.0</td>\n",
       "      <td>23.0</td>\n",
       "      <td>0.73</td>\n",
       "      <td>258.35</td>\n",
       "    </tr>\n",
       "    <tr>\n",
       "      <th>2022-07-29 07:00:00</th>\n",
       "      <td>10.0</td>\n",
       "      <td>14.0</td>\n",
       "      <td>22.0</td>\n",
       "      <td>1.17</td>\n",
       "      <td>273.50</td>\n",
       "    </tr>\n",
       "  </tbody>\n",
       "</table>\n",
       "<p>1536 rows × 5 columns</p>\n",
       "</div>"
      ],
      "text/plain": [
       "                     PM1 (ug/m3)  PM2.5 (ug/m3)  PM10 (ug/m3)  windspeed  \\\n",
       "2022-05-13 12:00:00          9.0           12.0          17.0       1.46   \n",
       "2022-05-13 13:00:00          8.0           11.0          16.0       2.98   \n",
       "2022-05-13 14:00:00          8.0           10.0          13.0       5.81   \n",
       "2022-05-13 15:00:00          6.0            8.0          11.0       6.98   \n",
       "2022-05-13 16:00:00          6.0            7.0           9.0       6.23   \n",
       "...                          ...            ...           ...        ...   \n",
       "2022-07-29 03:00:00         12.0           17.0          28.0       0.95   \n",
       "2022-07-29 04:00:00         13.0           17.0          30.0       0.69   \n",
       "2022-07-29 05:00:00         12.0           17.0          29.0       0.42   \n",
       "2022-07-29 06:00:00         11.0           15.0          23.0       0.73   \n",
       "2022-07-29 07:00:00         10.0           14.0          22.0       1.17   \n",
       "\n",
       "                     direction  \n",
       "2022-05-13 12:00:00      68.00  \n",
       "2022-05-13 13:00:00      72.62  \n",
       "2022-05-13 14:00:00      71.18  \n",
       "2022-05-13 15:00:00      57.97  \n",
       "2022-05-13 16:00:00      56.73  \n",
       "...                        ...  \n",
       "2022-07-29 03:00:00     188.67  \n",
       "2022-07-29 04:00:00     264.97  \n",
       "2022-07-29 05:00:00     276.30  \n",
       "2022-07-29 06:00:00     258.35  \n",
       "2022-07-29 07:00:00     273.50  \n",
       "\n",
       "[1536 rows x 5 columns]"
      ]
     },
     "execution_count": 7,
     "metadata": {},
     "output_type": "execute_result"
    }
   ],
   "source": [
    "df = pd.concat([airly, wind],axis=1, join='inner')\n",
    "df"
   ]
  },
  {
   "cell_type": "code",
   "execution_count": 8,
   "id": "e11943b6-9de4-4c71-bfd8-bc752b983b19",
   "metadata": {},
   "outputs": [
    {
     "data": {
      "image/png": "[encoded data removed]",
      "text/plain": [
       "<Figure size 576x144 with 2 Axes>"
      ]
     },
     "metadata": {
      "needs_background": "light"
     },
     "output_type": "display_data"
    }
   ],
   "source": [
    "plt.figure(figsize=(8,2))\n",
    "sns.heatmap(df.corr()[['windspeed','direction']].T,cmap='crest', annot=True, square=True)\n",
    "plt.show()"
   ]
  },
  {
   "cell_type": "markdown",
   "id": "fc8b6871-0b08-4f85-8623-f0d960507c3b",
   "metadata": {},
   "source": [
    "#### Δεν υφίσταται συσχέτιση κατεύθυνσης σε μοίρες."
   ]
  },
  {
   "cell_type": "code",
   "execution_count": 9,
   "id": "bf208c48-249e-4ccc-a57f-ccb3b5e25924",
   "metadata": {},
   "outputs": [],
   "source": [
    "bins = bins = np.linspace(0,360,9)+22.5\n",
    "bins = np.insert(bins,0,0)\n",
    "labels = [\"N\",\"NE\",\"E\",\"SE\",\"S\",\"SW\",\"W\",\"NW\",\"N2\"]"
   ]
  },
  {
   "cell_type": "code",
   "execution_count": 10,
   "id": "6e081ab4-5c63-4744-b351-14127ff39a67",
   "metadata": {},
   "outputs": [
    {
     "data": {
      "text/html": [
       "<div>\n",
       "<style scoped>\n",
       "    .dataframe tbody tr th:only-of-type {\n",
       "        vertical-align: middle;\n",
       "    }\n",
       "\n",
       "    .dataframe tbody tr th {\n",
       "        vertical-align: top;\n",
       "    }\n",
       "\n",
       "    .dataframe thead th {\n",
       "        text-align: right;\n",
       "    }\n",
       "</style>\n",
       "<table border=\"1\" class=\"dataframe\">\n",
       "  <thead>\n",
       "    <tr style=\"text-align: right;\">\n",
       "      <th></th>\n",
       "      <th>PM1 (ug/m3)</th>\n",
       "      <th>PM2.5 (ug/m3)</th>\n",
       "      <th>PM10 (ug/m3)</th>\n",
       "      <th>windspeed</th>\n",
       "      <th>direction</th>\n",
       "      <th>wind direction</th>\n",
       "    </tr>\n",
       "  </thead>\n",
       "  <tbody>\n",
       "    <tr>\n",
       "      <th>2022-05-13 12:00:00</th>\n",
       "      <td>9.0</td>\n",
       "      <td>12.0</td>\n",
       "      <td>17.0</td>\n",
       "      <td>1.46</td>\n",
       "      <td>68.00</td>\n",
       "      <td>E</td>\n",
       "    </tr>\n",
       "    <tr>\n",
       "      <th>2022-05-13 13:00:00</th>\n",
       "      <td>8.0</td>\n",
       "      <td>11.0</td>\n",
       "      <td>16.0</td>\n",
       "      <td>2.98</td>\n",
       "      <td>72.62</td>\n",
       "      <td>E</td>\n",
       "    </tr>\n",
       "    <tr>\n",
       "      <th>2022-05-13 14:00:00</th>\n",
       "      <td>8.0</td>\n",
       "      <td>10.0</td>\n",
       "      <td>13.0</td>\n",
       "      <td>5.81</td>\n",
       "      <td>71.18</td>\n",
       "      <td>E</td>\n",
       "    </tr>\n",
       "    <tr>\n",
       "      <th>2022-05-13 15:00:00</th>\n",
       "      <td>6.0</td>\n",
       "      <td>8.0</td>\n",
       "      <td>11.0</td>\n",
       "      <td>6.98</td>\n",
       "      <td>57.97</td>\n",
       "      <td>NE</td>\n",
       "    </tr>\n",
       "    <tr>\n",
       "      <th>2022-05-13 16:00:00</th>\n",
       "      <td>6.0</td>\n",
       "      <td>7.0</td>\n",
       "      <td>9.0</td>\n",
       "      <td>6.23</td>\n",
       "      <td>56.73</td>\n",
       "      <td>NE</td>\n",
       "    </tr>\n",
       "  </tbody>\n",
       "</table>\n",
       "</div>"
      ],
      "text/plain": [
       "                     PM1 (ug/m3)  PM2.5 (ug/m3)  PM10 (ug/m3)  windspeed  \\\n",
       "2022-05-13 12:00:00          9.0           12.0          17.0       1.46   \n",
       "2022-05-13 13:00:00          8.0           11.0          16.0       2.98   \n",
       "2022-05-13 14:00:00          8.0           10.0          13.0       5.81   \n",
       "2022-05-13 15:00:00          6.0            8.0          11.0       6.98   \n",
       "2022-05-13 16:00:00          6.0            7.0           9.0       6.23   \n",
       "\n",
       "                     direction wind direction  \n",
       "2022-05-13 12:00:00      68.00              E  \n",
       "2022-05-13 13:00:00      72.62              E  \n",
       "2022-05-13 14:00:00      71.18              E  \n",
       "2022-05-13 15:00:00      57.97             NE  \n",
       "2022-05-13 16:00:00      56.73             NE  "
      ]
     },
     "execution_count": 10,
     "metadata": {},
     "output_type": "execute_result"
    }
   ],
   "source": [
    "df['wind direction'] = pd.cut(df.direction, bins=bins, labels=labels, include_lowest=True)\n",
    "df['wind direction'] = df['wind direction'].replace('N2','N')\n",
    "df.head()"
   ]
  },
  {
   "cell_type": "code",
   "execution_count": 11,
   "id": "d8af9954-c803-47d9-a368-d48ff6fdd7d1",
   "metadata": {},
   "outputs": [],
   "source": [
    "df['wind direction']=df['wind direction'].astype('string')\n",
    "df.loc[df['windspeed']<0.5,'wind direction'] = 'CALM'"
   ]
  },
  {
   "cell_type": "code",
   "execution_count": 12,
   "id": "5c023a79-402a-46fa-88ec-9dd6dd5f08e3",
   "metadata": {},
   "outputs": [],
   "source": [
    "df.to_csv('airly_wind.csv')"
   ]
  }
 ],
 "metadata": {
  "kernelspec": {
   "display_name": "Python 3",
   "language": "python",
   "name": "python3"
  },
  "language_info": {
   "codemirror_mode": {
    "name": "ipython",
    "version": 3
   },
   "file_extension": ".py",
   "mimetype": "text/x-python",
   "name": "python",
   "nbconvert_exporter": "python",
   "pygments_lexer": "ipython3",
   "version": "3.8.8"
  }
 },
 "nbformat": 4,
 "nbformat_minor": 5
}
