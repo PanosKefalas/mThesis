{
 "cells": [
  {
   "cell_type": "code",
   "execution_count": 71,
   "id": "a6a81777-be17-4190-aa9e-d2edbe301e8c",
   "metadata": {},
   "outputs": [],
   "source": [
    "import pandas as pd\n",
    "import numpy as np"
   ]
  },
  {
   "cell_type": "code",
   "execution_count": 72,
   "id": "6415d605-8ee0-418b-b97f-07387fd1ae0c",
   "metadata": {},
   "outputs": [],
   "source": [
    "files = 4\n",
    "df = pd.concat(pd.read_csv(f'{file+1}.csv', delimiter=';', parse_dates=[1], dayfirst=True, index_col=1).drop(columns='From') for file in range(files))"
   ]
  },
  {
   "cell_type": "code",
   "execution_count": 73,
   "id": "2544c4c9-3276-4fb3-92c1-1860e3b61418",
   "metadata": {},
   "outputs": [
    {
     "data": {
      "text/html": [
       "<div>\n",
       "<style scoped>\n",
       "    .dataframe tbody tr th:only-of-type {\n",
       "        vertical-align: middle;\n",
       "    }\n",
       "\n",
       "    .dataframe tbody tr th {\n",
       "        vertical-align: top;\n",
       "    }\n",
       "\n",
       "    .dataframe thead th {\n",
       "        text-align: right;\n",
       "    }\n",
       "</style>\n",
       "<table border=\"1\" class=\"dataframe\">\n",
       "  <thead>\n",
       "    <tr style=\"text-align: right;\">\n",
       "      <th></th>\n",
       "      <th>PM1 (ug/m3)</th>\n",
       "      <th>PM2.5 (ug/m3)</th>\n",
       "      <th>PM10 (ug/m3)</th>\n",
       "    </tr>\n",
       "    <tr>\n",
       "      <th>Datetime</th>\n",
       "      <th></th>\n",
       "      <th></th>\n",
       "      <th></th>\n",
       "    </tr>\n",
       "  </thead>\n",
       "  <tbody>\n",
       "    <tr>\n",
       "      <th>2022-04-10 01:00:00</th>\n",
       "      <td>9.0</td>\n",
       "      <td>12.0</td>\n",
       "      <td>14.0</td>\n",
       "    </tr>\n",
       "    <tr>\n",
       "      <th>2022-04-10 02:00:00</th>\n",
       "      <td>8.0</td>\n",
       "      <td>11.0</td>\n",
       "      <td>12.0</td>\n",
       "    </tr>\n",
       "    <tr>\n",
       "      <th>2022-04-10 03:00:00</th>\n",
       "      <td>8.0</td>\n",
       "      <td>11.0</td>\n",
       "      <td>12.0</td>\n",
       "    </tr>\n",
       "    <tr>\n",
       "      <th>2022-04-10 04:00:00</th>\n",
       "      <td>6.0</td>\n",
       "      <td>8.0</td>\n",
       "      <td>9.0</td>\n",
       "    </tr>\n",
       "    <tr>\n",
       "      <th>2022-04-10 05:00:00</th>\n",
       "      <td>4.0</td>\n",
       "      <td>6.0</td>\n",
       "      <td>7.0</td>\n",
       "    </tr>\n",
       "    <tr>\n",
       "      <th>...</th>\n",
       "      <td>...</td>\n",
       "      <td>...</td>\n",
       "      <td>...</td>\n",
       "    </tr>\n",
       "    <tr>\n",
       "      <th>2022-08-12 20:00:00</th>\n",
       "      <td>7.0</td>\n",
       "      <td>9.0</td>\n",
       "      <td>15.0</td>\n",
       "    </tr>\n",
       "    <tr>\n",
       "      <th>2022-08-12 21:00:00</th>\n",
       "      <td>8.0</td>\n",
       "      <td>10.0</td>\n",
       "      <td>16.0</td>\n",
       "    </tr>\n",
       "    <tr>\n",
       "      <th>2022-08-12 22:00:00</th>\n",
       "      <td>9.0</td>\n",
       "      <td>11.0</td>\n",
       "      <td>18.0</td>\n",
       "    </tr>\n",
       "    <tr>\n",
       "      <th>2022-08-12 23:00:00</th>\n",
       "      <td>11.0</td>\n",
       "      <td>13.0</td>\n",
       "      <td>21.0</td>\n",
       "    </tr>\n",
       "    <tr>\n",
       "      <th>2022-08-13 00:00:00</th>\n",
       "      <td>11.0</td>\n",
       "      <td>13.0</td>\n",
       "      <td>21.0</td>\n",
       "    </tr>\n",
       "  </tbody>\n",
       "</table>\n",
       "<p>2928 rows × 3 columns</p>\n",
       "</div>"
      ],
      "text/plain": [
       "                     PM1 (ug/m3)  PM2.5 (ug/m3)  PM10 (ug/m3)\n",
       "Datetime                                                     \n",
       "2022-04-10 01:00:00          9.0           12.0          14.0\n",
       "2022-04-10 02:00:00          8.0           11.0          12.0\n",
       "2022-04-10 03:00:00          8.0           11.0          12.0\n",
       "2022-04-10 04:00:00          6.0            8.0           9.0\n",
       "2022-04-10 05:00:00          4.0            6.0           7.0\n",
       "...                          ...            ...           ...\n",
       "2022-08-12 20:00:00          7.0            9.0          15.0\n",
       "2022-08-12 21:00:00          8.0           10.0          16.0\n",
       "2022-08-12 22:00:00          9.0           11.0          18.0\n",
       "2022-08-12 23:00:00         11.0           13.0          21.0\n",
       "2022-08-13 00:00:00         11.0           13.0          21.0\n",
       "\n",
       "[2928 rows x 3 columns]"
      ]
     },
     "execution_count": 73,
     "metadata": {},
     "output_type": "execute_result"
    }
   ],
   "source": [
    "df.columns = ['PM1 (ug/m3)', 'PM2.5 (ug/m3)', 'PM10 (ug/m3)']\n",
    "df.rename_axis('Datetime')"
   ]
  },
  {
   "cell_type": "code",
   "execution_count": 74,
   "id": "bdd291a1-7f85-420e-a433-7f049d9c4afc",
   "metadata": {},
   "outputs": [
    {
     "name": "stdout",
     "output_type": "stream",
     "text": [
      "Negatives: \n",
      " PM1 (ug/m3)      0\n",
      "PM2.5 (ug/m3)    0\n",
      "PM10 (ug/m3)     0\n",
      "dtype: int64\n",
      "NaN: \n",
      " PM1 (ug/m3)      2\n",
      "PM2.5 (ug/m3)    2\n",
      "PM10 (ug/m3)     2\n",
      "dtype: int64\n"
     ]
    }
   ],
   "source": [
    "print('Negatives: \\n',(df<0).sum())\n",
    "print('NaN: \\n', df.isna().sum())"
   ]
  },
  {
   "cell_type": "code",
   "execution_count": 75,
   "id": "b2fe0e4b-46d5-4aab-a812-338ca415b6ab",
   "metadata": {},
   "outputs": [],
   "source": [
    "df_filled = df.interpolate()"
   ]
  },
  {
   "cell_type": "code",
   "execution_count": 76,
   "id": "84b13c5c-c4bb-4b70-b74a-1f93faa997a6",
   "metadata": {},
   "outputs": [
    {
     "name": "stdout",
     "output_type": "stream",
     "text": [
      "NaN: \n",
      " PM1 (ug/m3)      0\n",
      "PM2.5 (ug/m3)    0\n",
      "PM10 (ug/m3)     0\n",
      "dtype: int64\n"
     ]
    }
   ],
   "source": [
    "print('NaN: \\n', df_filled.isna().sum())"
   ]
  },
  {
   "cell_type": "code",
   "execution_count": 77,
   "id": "76c167d5-03d9-41a2-bdb8-5dbfcc95c342",
   "metadata": {},
   "outputs": [],
   "source": [
    "df.to_csv('airly_filled.csv')"
   ]
  },
  {
   "cell_type": "code",
   "execution_count": null,
   "id": "d830ae08-ec19-4ff3-add3-f0cbac1f6559",
   "metadata": {},
   "outputs": [],
   "source": []
  }
 ],
 "metadata": {
  "kernelspec": {
   "display_name": "Python 3",
   "language": "python",
   "name": "python3"
  },
  "language_info": {
   "codemirror_mode": {
    "name": "ipython",
    "version": 3
   },
   "file_extension": ".py",
   "mimetype": "text/x-python",
   "name": "python",
   "nbconvert_exporter": "python",
   "pygments_lexer": "ipython3",
   "version": "3.8.8"
  }
 },
 "nbformat": 4,
 "nbformat_minor": 5
}
