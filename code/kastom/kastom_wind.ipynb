{
 "cells": [
  {
   "cell_type": "code",
   "execution_count": 1,
   "id": "b8fc6d73-f11c-401e-b347-64c5ac8c9478",
   "metadata": {},
   "outputs": [],
   "source": [
    "import pandas as pd\n",
    "import matplotlib.pyplot as plt\n",
    "import numpy as np\n",
    "import seaborn as sns"
   ]
  },
  {
   "cell_type": "code",
   "execution_count": 5,
   "id": "811a729b-1547-466c-ab08-df3ce97fe858",
   "metadata": {},
   "outputs": [],
   "source": [
    "df_raw = pd.read_csv('kastom_filled.csv', parse_dates=[0], index_col=0)\n",
    "wind = pd.read_csv('wind.csv', parse_dates=[0], index_col=0)"
   ]
  },
  {
   "cell_type": "code",
   "execution_count": 9,
   "id": "367072c3-ad77-4a1f-ba02-2699bf143681",
   "metadata": {},
   "outputs": [],
   "source": [
    "df = pd.concat([df_raw, wind],axis=1, join='inner')\n",
    "df.columns= ['Temp (C)', 'Humidity (%)', 'PM10 (ug/m3)', 'PM2.5 (ug/m3)', 'PM1 (ug/m3)', 'CO (μg/m3 10²)', 'NO2 (ppb)','windspeed', 'direction']"
   ]
  },
  {
   "cell_type": "code",
   "execution_count": 10,
   "id": "e11943b6-9de4-4c71-bfd8-bc752b983b19",
   "metadata": {},
   "outputs": [
    {
     "data": {
      "image/png": "[encoded data removed]",
      "text/plain": [
       "<Figure size 576x144 with 2 Axes>"
      ]
     },
     "metadata": {
      "needs_background": "light"
     },
     "output_type": "display_data"
    }
   ],
   "source": [
    "plt.figure(figsize=(8,2))\n",
    "sns.heatmap(df.corr()[['windspeed','direction']].T,cmap='crest', annot=True, square=True)\n",
    "plt.show()"
   ]
  },
  {
   "cell_type": "markdown",
   "id": "fc8b6871-0b08-4f85-8623-f0d960507c3b",
   "metadata": {},
   "source": [
    "#### Δεν υφίσταται συσχέτιση κατεύθυνσης σε μοίρες."
   ]
  },
  {
   "cell_type": "code",
   "execution_count": 11,
   "id": "bf208c48-249e-4ccc-a57f-ccb3b5e25924",
   "metadata": {},
   "outputs": [],
   "source": [
    "bins = bins = np.linspace(0,360,9)+22.5\n",
    "bins = np.insert(bins,0,0)\n",
    "labels = [\"N\",\"NE\",\"E\",\"SE\",\"S\",\"SW\",\"W\",\"NW\",\"N2\"]"
   ]
  },
  {
   "cell_type": "code",
   "execution_count": 12,
   "id": "6e081ab4-5c63-4744-b351-14127ff39a67",
   "metadata": {},
   "outputs": [
    {
     "data": {
      "text/html": [
       "<div>\n",
       "<style scoped>\n",
       "    .dataframe tbody tr th:only-of-type {\n",
       "        vertical-align: middle;\n",
       "    }\n",
       "\n",
       "    .dataframe tbody tr th {\n",
       "        vertical-align: top;\n",
       "    }\n",
       "\n",
       "    .dataframe thead th {\n",
       "        text-align: right;\n",
       "    }\n",
       "</style>\n",
       "<table border=\"1\" class=\"dataframe\">\n",
       "  <thead>\n",
       "    <tr style=\"text-align: right;\">\n",
       "      <th></th>\n",
       "      <th>Temp (C)</th>\n",
       "      <th>Humidity (%)</th>\n",
       "      <th>PM10 (ug/m3)</th>\n",
       "      <th>PM2.5 (ug/m3)</th>\n",
       "      <th>PM1 (ug/m3)</th>\n",
       "      <th>CO (μg/m3 10²)</th>\n",
       "      <th>NO2 (ppb)</th>\n",
       "      <th>windspeed</th>\n",
       "      <th>direction</th>\n",
       "      <th>wind direction</th>\n",
       "    </tr>\n",
       "  </thead>\n",
       "  <tbody>\n",
       "    <tr>\n",
       "      <th>2022-05-13 12:00:00</th>\n",
       "      <td>26.29</td>\n",
       "      <td>37.05</td>\n",
       "      <td>45.0</td>\n",
       "      <td>29.0</td>\n",
       "      <td>12.0</td>\n",
       "      <td>44.52</td>\n",
       "      <td>35.89</td>\n",
       "      <td>1.46</td>\n",
       "      <td>68.00</td>\n",
       "      <td>E</td>\n",
       "    </tr>\n",
       "    <tr>\n",
       "      <th>2022-05-13 13:00:00</th>\n",
       "      <td>26.74</td>\n",
       "      <td>34.42</td>\n",
       "      <td>42.5</td>\n",
       "      <td>26.0</td>\n",
       "      <td>11.0</td>\n",
       "      <td>41.10</td>\n",
       "      <td>39.31</td>\n",
       "      <td>2.98</td>\n",
       "      <td>72.62</td>\n",
       "      <td>E</td>\n",
       "    </tr>\n",
       "    <tr>\n",
       "      <th>2022-05-13 14:00:00</th>\n",
       "      <td>27.12</td>\n",
       "      <td>34.27</td>\n",
       "      <td>37.0</td>\n",
       "      <td>23.0</td>\n",
       "      <td>9.0</td>\n",
       "      <td>47.95</td>\n",
       "      <td>34.54</td>\n",
       "      <td>5.81</td>\n",
       "      <td>71.18</td>\n",
       "      <td>E</td>\n",
       "    </tr>\n",
       "    <tr>\n",
       "      <th>2022-05-13 15:00:00</th>\n",
       "      <td>26.91</td>\n",
       "      <td>34.05</td>\n",
       "      <td>37.5</td>\n",
       "      <td>22.5</td>\n",
       "      <td>10.0</td>\n",
       "      <td>51.37</td>\n",
       "      <td>35.94</td>\n",
       "      <td>6.98</td>\n",
       "      <td>57.97</td>\n",
       "      <td>NE</td>\n",
       "    </tr>\n",
       "    <tr>\n",
       "      <th>2022-05-13 16:00:00</th>\n",
       "      <td>26.69</td>\n",
       "      <td>33.46</td>\n",
       "      <td>36.0</td>\n",
       "      <td>22.0</td>\n",
       "      <td>9.0</td>\n",
       "      <td>54.79</td>\n",
       "      <td>40.99</td>\n",
       "      <td>6.23</td>\n",
       "      <td>56.73</td>\n",
       "      <td>NE</td>\n",
       "    </tr>\n",
       "  </tbody>\n",
       "</table>\n",
       "</div>"
      ],
      "text/plain": [
       "                     Temp (C)  Humidity (%)  PM10 (ug/m3)  PM2.5 (ug/m3)  \\\n",
       "2022-05-13 12:00:00     26.29         37.05          45.0           29.0   \n",
       "2022-05-13 13:00:00     26.74         34.42          42.5           26.0   \n",
       "2022-05-13 14:00:00     27.12         34.27          37.0           23.0   \n",
       "2022-05-13 15:00:00     26.91         34.05          37.5           22.5   \n",
       "2022-05-13 16:00:00     26.69         33.46          36.0           22.0   \n",
       "\n",
       "                     PM1 (ug/m3)  CO (μg/m3 10²)  NO2 (ppb)  windspeed  \\\n",
       "2022-05-13 12:00:00         12.0           44.52      35.89       1.46   \n",
       "2022-05-13 13:00:00         11.0           41.10      39.31       2.98   \n",
       "2022-05-13 14:00:00          9.0           47.95      34.54       5.81   \n",
       "2022-05-13 15:00:00         10.0           51.37      35.94       6.98   \n",
       "2022-05-13 16:00:00          9.0           54.79      40.99       6.23   \n",
       "\n",
       "                     direction wind direction  \n",
       "2022-05-13 12:00:00      68.00              E  \n",
       "2022-05-13 13:00:00      72.62              E  \n",
       "2022-05-13 14:00:00      71.18              E  \n",
       "2022-05-13 15:00:00      57.97             NE  \n",
       "2022-05-13 16:00:00      56.73             NE  "
      ]
     },
     "execution_count": 12,
     "metadata": {},
     "output_type": "execute_result"
    }
   ],
   "source": [
    "df['wind direction'] = pd.cut(df.direction, bins=bins, labels=labels, include_lowest=True)\n",
    "df['wind direction'] = df['wind direction'].replace('N2','N')\n",
    "df.head()"
   ]
  },
  {
   "cell_type": "code",
   "execution_count": 13,
   "id": "d8af9954-c803-47d9-a368-d48ff6fdd7d1",
   "metadata": {},
   "outputs": [],
   "source": [
    "df['wind direction']=df['wind direction'].astype('string')\n",
    "df.loc[df['windspeed']<0.5,'wind direction'] = 'CALM'"
   ]
  },
  {
   "cell_type": "code",
   "execution_count": 14,
   "id": "5c023a79-402a-46fa-88ec-9dd6dd5f08e3",
   "metadata": {},
   "outputs": [],
   "source": [
    "df.to_csv('kastom_wind.csv')"
   ]
  },
  {
   "cell_type": "code",
   "execution_count": null,
   "id": "6d2053cd-7fa1-4e22-95f0-08041d2c099f",
   "metadata": {},
   "outputs": [],
   "source": []
  }
 ],
 "metadata": {
  "kernelspec": {
   "display_name": "Python 3",
   "language": "python",
   "name": "python3"
  },
  "language_info": {
   "codemirror_mode": {
    "name": "ipython",
    "version": 3
   },
   "file_extension": ".py",
   "mimetype": "text/x-python",
   "name": "python",
   "nbconvert_exporter": "python",
   "pygments_lexer": "ipython3",
   "version": "3.8.8"
  }
 },
 "nbformat": 4,
 "nbformat_minor": 5
}
