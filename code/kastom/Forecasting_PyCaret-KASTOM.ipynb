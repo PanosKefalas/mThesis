{
 "cells": [
  {
   "cell_type": "code",
   "execution_count": 50,
   "id": "0e631b8a-6544-406c-a740-a598bf05c0d8",
   "metadata": {},
   "outputs": [],
   "source": [
    "from pycaret.regression import *\n",
    "import pandas as pd\n",
    "import matplotlib.pyplot as plt"
   ]
  },
  {
   "cell_type": "code",
   "execution_count": 51,
   "id": "d8fcb533-88ca-4e3f-84bc-0accfda19bb1",
   "metadata": {},
   "outputs": [
    {
     "data": {
      "text/html": [
       "<div>\n",
       "<style scoped>\n",
       "    .dataframe tbody tr th:only-of-type {\n",
       "        vertical-align: middle;\n",
       "    }\n",
       "\n",
       "    .dataframe tbody tr th {\n",
       "        vertical-align: top;\n",
       "    }\n",
       "\n",
       "    .dataframe thead th {\n",
       "        text-align: right;\n",
       "    }\n",
       "</style>\n",
       "<table border=\"1\" class=\"dataframe\">\n",
       "  <thead>\n",
       "    <tr style=\"text-align: right;\">\n",
       "      <th></th>\n",
       "      <th>Temp (C)</th>\n",
       "      <th>Humidity (%)</th>\n",
       "      <th>PM10</th>\n",
       "      <th>PM2.5</th>\n",
       "      <th>CO</th>\n",
       "      <th>NO2 (ug/m3)</th>\n",
       "    </tr>\n",
       "    <tr>\n",
       "      <th>Datetime</th>\n",
       "      <th></th>\n",
       "      <th></th>\n",
       "      <th></th>\n",
       "      <th></th>\n",
       "      <th></th>\n",
       "      <th></th>\n",
       "    </tr>\n",
       "  </thead>\n",
       "  <tbody>\n",
       "    <tr>\n",
       "      <th>2022-07-18 10:00:00</th>\n",
       "      <td>30.81</td>\n",
       "      <td>30.33</td>\n",
       "      <td>33.0</td>\n",
       "      <td>21.0</td>\n",
       "      <td>247.71</td>\n",
       "      <td>48.08</td>\n",
       "    </tr>\n",
       "    <tr>\n",
       "      <th>2022-07-18 11:00:00</th>\n",
       "      <td>31.25</td>\n",
       "      <td>32.89</td>\n",
       "      <td>40.0</td>\n",
       "      <td>25.0</td>\n",
       "      <td>312.15</td>\n",
       "      <td>70.74</td>\n",
       "    </tr>\n",
       "    <tr>\n",
       "      <th>2022-07-18 12:00:00</th>\n",
       "      <td>31.00</td>\n",
       "      <td>36.43</td>\n",
       "      <td>42.0</td>\n",
       "      <td>26.0</td>\n",
       "      <td>406.42</td>\n",
       "      <td>84.62</td>\n",
       "    </tr>\n",
       "    <tr>\n",
       "      <th>2022-07-18 13:00:00</th>\n",
       "      <td>31.50</td>\n",
       "      <td>37.77</td>\n",
       "      <td>49.0</td>\n",
       "      <td>31.0</td>\n",
       "      <td>398.44</td>\n",
       "      <td>80.81</td>\n",
       "    </tr>\n",
       "    <tr>\n",
       "      <th>2022-07-18 14:00:00</th>\n",
       "      <td>31.00</td>\n",
       "      <td>39.02</td>\n",
       "      <td>47.0</td>\n",
       "      <td>30.0</td>\n",
       "      <td>377.55</td>\n",
       "      <td>86.03</td>\n",
       "    </tr>\n",
       "  </tbody>\n",
       "</table>\n",
       "</div>"
      ],
      "text/plain": [
       "                     Temp (C)  Humidity (%)  PM10  PM2.5      CO  NO2 (ug/m3)\n",
       "Datetime                                                                     \n",
       "2022-07-18 10:00:00     30.81         30.33  33.0   21.0  247.71        48.08\n",
       "2022-07-18 11:00:00     31.25         32.89  40.0   25.0  312.15        70.74\n",
       "2022-07-18 12:00:00     31.00         36.43  42.0   26.0  406.42        84.62\n",
       "2022-07-18 13:00:00     31.50         37.77  49.0   31.0  398.44        80.81\n",
       "2022-07-18 14:00:00     31.00         39.02  47.0   30.0  377.55        86.03"
      ]
     },
     "execution_count": 51,
     "metadata": {},
     "output_type": "execute_result"
    }
   ],
   "source": [
    "df_raw = pd.read_csv('kastom_filled.csv', parse_dates=[0], index_col=0)\n",
    "df = df_raw.copy()\n",
    "df.tail()"
   ]
  },
  {
   "cell_type": "code",
   "execution_count": 52,
   "id": "ca1fba54-50b4-4724-a049-58af1e8bfa26",
   "metadata": {},
   "outputs": [],
   "source": [
    "steps = 7*24\n",
    "train = df[:-steps]\n",
    "test = df[-steps:]\n",
    "\n",
    "target = 'PM2.5'\n",
    "numeric_features = df.columns.drop(target).to_list()"
   ]
  },
  {
   "cell_type": "code",
   "execution_count": 53,
   "id": "15b3e9ee-2556-4c0a-90c7-532ecf0f340d",
   "metadata": {
    "tags": []
   },
   "outputs": [],
   "source": [
    "s = setup(data=train, test_data=test, target=target, fold_strategy='timeseries',\n",
    "          numeric_features=numeric_features,\n",
    "          fold=3,  silent=True, transform_target=True, session_id=123, verbose=0)"
   ]
  },
  {
   "cell_type": "code",
   "execution_count": 54,
   "id": "b163a76e-eb75-4076-a7ac-2cc583e47388",
   "metadata": {},
   "outputs": [
    {
     "data": {
      "text/html": [
       "<style type=\"text/css\">\n",
       "#T_8612f_row3_col0, #T_8612f_row3_col1, #T_8612f_row3_col2, #T_8612f_row3_col3, #T_8612f_row3_col4, #T_8612f_row3_col5 {\n",
       "  background: yellow;\n",
       "}\n",
       "</style>\n",
       "<table id=\"T_8612f\">\n",
       "  <thead>\n",
       "    <tr>\n",
       "      <th class=\"blank level0\" >&nbsp;</th>\n",
       "      <th id=\"T_8612f_level0_col0\" class=\"col_heading level0 col0\" >MAE</th>\n",
       "      <th id=\"T_8612f_level0_col1\" class=\"col_heading level0 col1\" >MSE</th>\n",
       "      <th id=\"T_8612f_level0_col2\" class=\"col_heading level0 col2\" >RMSE</th>\n",
       "      <th id=\"T_8612f_level0_col3\" class=\"col_heading level0 col3\" >R2</th>\n",
       "      <th id=\"T_8612f_level0_col4\" class=\"col_heading level0 col4\" >RMSLE</th>\n",
       "      <th id=\"T_8612f_level0_col5\" class=\"col_heading level0 col5\" >MAPE</th>\n",
       "    </tr>\n",
       "    <tr>\n",
       "      <th class=\"index_name level0\" >Fold</th>\n",
       "      <th class=\"blank col0\" >&nbsp;</th>\n",
       "      <th class=\"blank col1\" >&nbsp;</th>\n",
       "      <th class=\"blank col2\" >&nbsp;</th>\n",
       "      <th class=\"blank col3\" >&nbsp;</th>\n",
       "      <th class=\"blank col4\" >&nbsp;</th>\n",
       "      <th class=\"blank col5\" >&nbsp;</th>\n",
       "    </tr>\n",
       "  </thead>\n",
       "  <tbody>\n",
       "    <tr>\n",
       "      <th id=\"T_8612f_level0_row0\" class=\"row_heading level0 row0\" >0</th>\n",
       "      <td id=\"T_8612f_row0_col0\" class=\"data row0 col0\" >0.6289</td>\n",
       "      <td id=\"T_8612f_row0_col1\" class=\"data row0 col1\" >0.6899</td>\n",
       "      <td id=\"T_8612f_row0_col2\" class=\"data row0 col2\" >0.8306</td>\n",
       "      <td id=\"T_8612f_row0_col3\" class=\"data row0 col3\" >0.9971</td>\n",
       "      <td id=\"T_8612f_row0_col4\" class=\"data row0 col4\" >0.0326</td>\n",
       "      <td id=\"T_8612f_row0_col5\" class=\"data row0 col5\" >0.0248</td>\n",
       "    </tr>\n",
       "    <tr>\n",
       "      <th id=\"T_8612f_level0_row1\" class=\"row_heading level0 row1\" >1</th>\n",
       "      <td id=\"T_8612f_row1_col0\" class=\"data row1 col0\" >0.5058</td>\n",
       "      <td id=\"T_8612f_row1_col1\" class=\"data row1 col1\" >0.4486</td>\n",
       "      <td id=\"T_8612f_row1_col2\" class=\"data row1 col2\" >0.6698</td>\n",
       "      <td id=\"T_8612f_row1_col3\" class=\"data row1 col3\" >0.9983</td>\n",
       "      <td id=\"T_8612f_row1_col4\" class=\"data row1 col4\" >0.0270</td>\n",
       "      <td id=\"T_8612f_row1_col5\" class=\"data row1 col5\" >0.0201</td>\n",
       "    </tr>\n",
       "    <tr>\n",
       "      <th id=\"T_8612f_level0_row2\" class=\"row_heading level0 row2\" >2</th>\n",
       "      <td id=\"T_8612f_row2_col0\" class=\"data row2 col0\" >0.4217</td>\n",
       "      <td id=\"T_8612f_row2_col1\" class=\"data row2 col1\" >0.3033</td>\n",
       "      <td id=\"T_8612f_row2_col2\" class=\"data row2 col2\" >0.5507</td>\n",
       "      <td id=\"T_8612f_row2_col3\" class=\"data row2 col3\" >0.9982</td>\n",
       "      <td id=\"T_8612f_row2_col4\" class=\"data row2 col4\" >0.0240</td>\n",
       "      <td id=\"T_8612f_row2_col5\" class=\"data row2 col5\" >0.0179</td>\n",
       "    </tr>\n",
       "    <tr>\n",
       "      <th id=\"T_8612f_level0_row3\" class=\"row_heading level0 row3\" >Mean</th>\n",
       "      <td id=\"T_8612f_row3_col0\" class=\"data row3 col0\" >0.5188</td>\n",
       "      <td id=\"T_8612f_row3_col1\" class=\"data row3 col1\" >0.4806</td>\n",
       "      <td id=\"T_8612f_row3_col2\" class=\"data row3 col2\" >0.6837</td>\n",
       "      <td id=\"T_8612f_row3_col3\" class=\"data row3 col3\" >0.9979</td>\n",
       "      <td id=\"T_8612f_row3_col4\" class=\"data row3 col4\" >0.0279</td>\n",
       "      <td id=\"T_8612f_row3_col5\" class=\"data row3 col5\" >0.0209</td>\n",
       "    </tr>\n",
       "    <tr>\n",
       "      <th id=\"T_8612f_level0_row4\" class=\"row_heading level0 row4\" >Std</th>\n",
       "      <td id=\"T_8612f_row4_col0\" class=\"data row4 col0\" >0.0851</td>\n",
       "      <td id=\"T_8612f_row4_col1\" class=\"data row4 col1\" >0.1594</td>\n",
       "      <td id=\"T_8612f_row4_col2\" class=\"data row4 col2\" >0.1147</td>\n",
       "      <td id=\"T_8612f_row4_col3\" class=\"data row4 col3\" >0.0006</td>\n",
       "      <td id=\"T_8612f_row4_col4\" class=\"data row4 col4\" >0.0036</td>\n",
       "      <td id=\"T_8612f_row4_col5\" class=\"data row4 col5\" >0.0029</td>\n",
       "    </tr>\n",
       "  </tbody>\n",
       "</table>\n"
      ],
      "text/plain": [
       "<pandas.io.formats.style.Styler at 0x1ff046acdc0>"
      ]
     },
     "metadata": {},
     "output_type": "display_data"
    }
   ],
   "source": [
    "model = create_model('rf')"
   ]
  },
  {
   "cell_type": "code",
   "execution_count": 55,
   "id": "63f04bb4-5892-4bbc-8c82-3a88096a2712",
   "metadata": {},
   "outputs": [
    {
     "data": {
      "text/html": [
       "<style type=\"text/css\">\n",
       "</style>\n",
       "<table id=\"T_06953\">\n",
       "  <thead>\n",
       "    <tr>\n",
       "      <th class=\"blank level0\" >&nbsp;</th>\n",
       "      <th id=\"T_06953_level0_col0\" class=\"col_heading level0 col0\" >Model</th>\n",
       "      <th id=\"T_06953_level0_col1\" class=\"col_heading level0 col1\" >MAE</th>\n",
       "      <th id=\"T_06953_level0_col2\" class=\"col_heading level0 col2\" >MSE</th>\n",
       "      <th id=\"T_06953_level0_col3\" class=\"col_heading level0 col3\" >RMSE</th>\n",
       "      <th id=\"T_06953_level0_col4\" class=\"col_heading level0 col4\" >R2</th>\n",
       "      <th id=\"T_06953_level0_col5\" class=\"col_heading level0 col5\" >RMSLE</th>\n",
       "      <th id=\"T_06953_level0_col6\" class=\"col_heading level0 col6\" >MAPE</th>\n",
       "    </tr>\n",
       "  </thead>\n",
       "  <tbody>\n",
       "    <tr>\n",
       "      <th id=\"T_06953_level0_row0\" class=\"row_heading level0 row0\" >0</th>\n",
       "      <td id=\"T_06953_row0_col0\" class=\"data row0 col0\" >Random Forest Regressor</td>\n",
       "      <td id=\"T_06953_row0_col1\" class=\"data row0 col1\" >0.5856</td>\n",
       "      <td id=\"T_06953_row0_col2\" class=\"data row0 col2\" >0.5564</td>\n",
       "      <td id=\"T_06953_row0_col3\" class=\"data row0 col3\" >0.7459</td>\n",
       "      <td id=\"T_06953_row0_col4\" class=\"data row0 col4\" >0.9962</td>\n",
       "      <td id=\"T_06953_row0_col5\" class=\"data row0 col5\" >0.0364</td>\n",
       "      <td id=\"T_06953_row0_col6\" class=\"data row0 col6\" >0.0303</td>\n",
       "    </tr>\n",
       "  </tbody>\n",
       "</table>\n"
      ],
      "text/plain": [
       "<pandas.io.formats.style.Styler at 0x1ff0a4f64f0>"
      ]
     },
     "metadata": {},
     "output_type": "display_data"
    }
   ],
   "source": [
    "predictions = predict_model(model, data=test)"
   ]
  },
  {
   "cell_type": "code",
   "execution_count": 56,
   "id": "5d1de7e4-324e-40bd-abc7-345ec48ab226",
   "metadata": {},
   "outputs": [
    {
     "data": {
      "image/png": "[encoded data removed]",
      "text/plain": [
       "<Figure size 1008x288 with 1 Axes>"
      ]
     },
     "metadata": {
      "needs_background": "light"
     },
     "output_type": "display_data"
    }
   ],
   "source": [
    "plt.style.use('seaborn-notebook')\n",
    "predictions[[target, 'Label']].plot(figsize=(14,4))\n",
    "plt.legend([f'Actual {target}', f'Predicted {target}'])\n",
    "plt.show()"
   ]
  },
  {
   "cell_type": "code",
   "execution_count": null,
   "id": "fa810950-f9d6-4867-901e-ca9c25656689",
   "metadata": {},
   "outputs": [],
   "source": []
  }
 ],
 "metadata": {
  "kernelspec": {
   "display_name": "Python 3 (ipykernel)",
   "language": "python",
   "name": "python3"
  },
  "language_info": {
   "codemirror_mode": {
    "name": "ipython",
    "version": 3
   },
   "file_extension": ".py",
   "mimetype": "text/x-python",
   "name": "python",
   "nbconvert_exporter": "python",
   "pygments_lexer": "ipython3",
   "version": "3.8.13"
  }
 },
 "nbformat": 4,
 "nbformat_minor": 5
}
