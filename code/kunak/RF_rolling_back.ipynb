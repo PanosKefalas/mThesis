{
 "cells": [
  {
   "cell_type": "code",
   "execution_count": 1,
   "id": "fda5acf7-10a6-4541-a0e3-3a8bb18bef79",
   "metadata": {},
   "outputs": [],
   "source": [
    "from pycaret.regression import *\n",
    "import pandas as pd\n",
    "import matplotlib.pyplot as plt\n",
    "from functions import accuracy\n",
    "from sklearn.metrics import mean_absolute_error, r2_score, mean_squared_error"
   ]
  },
  {
   "cell_type": "code",
   "execution_count": 2,
   "id": "14d73544-e9ef-47ee-930a-7c982c02a126",
   "metadata": {},
   "outputs": [],
   "source": [
    "df_raw = pd.read_csv('kunak_filled.csv', parse_dates=[0], index_col=0)\n",
    "df=df_raw.asfreq('H')"
   ]
  },
  {
   "cell_type": "code",
   "execution_count": 3,
   "id": "20c3e002-b432-4fbd-8371-5d7d0b58a375",
   "metadata": {},
   "outputs": [],
   "source": [
    "week = 24*7\n",
    "step = 0\n",
    "date_to = week*4\n",
    "errors = {}\n",
    "training_to_prediction = []"
   ]
  },
  {
   "cell_type": "code",
   "execution_count": 4,
   "id": "673b4be2-cd6c-413f-a709-1a7bbfcd25c2",
   "metadata": {},
   "outputs": [
    {
     "name": "stdout",
     "output_type": "stream",
     "text": [
      "0.25\n",
      "0.25\n",
      "0.25\n",
      "0.25\n",
      "0.25\n",
      "0.25\n",
      "0.25\n",
      "0.25\n",
      "0.25\n"
     ]
    }
   ],
   "source": [
    "while (step+date_to)<=(df.shape[0]):\n",
    "    \n",
    "    sample = df[-date_to-step:].copy()\n",
    "    \n",
    "    \n",
    "    target = 'NO2 (ppb)'\n",
    "    steps = int(sample.shape[0]*0.25)\n",
    "    \n",
    "    train = sample[:-steps]\n",
    "    test = sample[-steps:]\n",
    "    \n",
    "    numeric_features = df.columns.drop(target).to_list()\n",
    "    \n",
    "    s = setup(data=train, test_data=test, target=target, fold_strategy='timeseries',\n",
    "          numeric_features=numeric_features,\n",
    "          fold=3, silent=True, session_id=123, verbose=0)\n",
    "    \n",
    "    model = create_model('rf', verbose=False)\n",
    "    \n",
    "    prediction_steps = 24*3\n",
    "    predictions = predict_model(model, data=test[-prediction_steps:], verbose=False)\n",
    "    \n",
    "    errors_list = [mean_absolute_error(predictions[target][-prediction_steps:], predictions.Label[-prediction_steps:]),\n",
    "               mean_squared_error(predictions[target][-prediction_steps:], predictions.Label[-prediction_steps:]),\n",
    "              accuracy(predictions[target][-prediction_steps:], predictions.Label[-prediction_steps:])['mape'],\n",
    "              r2_score(predictions[target][-prediction_steps:], predictions.Label[-prediction_steps:])]\n",
    "    \n",
    "    print(test.shape[0]/sample.shape[0])\n",
    "  \n",
    "        \n",
    "    errors[str(df.index[-date_to-step].date())] = errors_list\n",
    "    step += 2*week"
   ]
  },
  {
   "cell_type": "code",
   "execution_count": 5,
   "id": "49e1caeb-ddf7-44e3-9ee7-5d19e0576deb",
   "metadata": {},
   "outputs": [
    {
     "data": {
      "text/html": [
       "<div>\n",
       "<style scoped>\n",
       "    .dataframe tbody tr th:only-of-type {\n",
       "        vertical-align: middle;\n",
       "    }\n",
       "\n",
       "    .dataframe tbody tr th {\n",
       "        vertical-align: top;\n",
       "    }\n",
       "\n",
       "    .dataframe thead th {\n",
       "        text-align: right;\n",
       "    }\n",
       "</style>\n",
       "<table border=\"1\" class=\"dataframe\">\n",
       "  <thead>\n",
       "    <tr style=\"text-align: right;\">\n",
       "      <th></th>\n",
       "      <th>MAE</th>\n",
       "      <th>MSE</th>\n",
       "      <th>MAPE</th>\n",
       "      <th>R2</th>\n",
       "    </tr>\n",
       "  </thead>\n",
       "  <tbody>\n",
       "    <tr>\n",
       "      <th>2022-08-08</th>\n",
       "      <td>1.411480</td>\n",
       "      <td>4.774364</td>\n",
       "      <td>0.021</td>\n",
       "      <td>0.980461</td>\n",
       "    </tr>\n",
       "    <tr>\n",
       "      <th>2022-07-25</th>\n",
       "      <td>1.551108</td>\n",
       "      <td>6.034516</td>\n",
       "      <td>0.022</td>\n",
       "      <td>0.975304</td>\n",
       "    </tr>\n",
       "    <tr>\n",
       "      <th>2022-07-11</th>\n",
       "      <td>3.535364</td>\n",
       "      <td>36.465569</td>\n",
       "      <td>0.051</td>\n",
       "      <td>0.850764</td>\n",
       "    </tr>\n",
       "    <tr>\n",
       "      <th>2022-06-27</th>\n",
       "      <td>1.329031</td>\n",
       "      <td>5.048349</td>\n",
       "      <td>0.018</td>\n",
       "      <td>0.979340</td>\n",
       "    </tr>\n",
       "    <tr>\n",
       "      <th>2022-06-13</th>\n",
       "      <td>1.522522</td>\n",
       "      <td>6.230883</td>\n",
       "      <td>0.021</td>\n",
       "      <td>0.974500</td>\n",
       "    </tr>\n",
       "    <tr>\n",
       "      <th>2022-05-30</th>\n",
       "      <td>1.063814</td>\n",
       "      <td>2.917251</td>\n",
       "      <td>0.015</td>\n",
       "      <td>0.988061</td>\n",
       "    </tr>\n",
       "    <tr>\n",
       "      <th>2022-05-16</th>\n",
       "      <td>1.081329</td>\n",
       "      <td>3.057449</td>\n",
       "      <td>0.015</td>\n",
       "      <td>0.987487</td>\n",
       "    </tr>\n",
       "    <tr>\n",
       "      <th>2022-05-02</th>\n",
       "      <td>1.057125</td>\n",
       "      <td>2.966587</td>\n",
       "      <td>0.015</td>\n",
       "      <td>0.987859</td>\n",
       "    </tr>\n",
       "    <tr>\n",
       "      <th>2022-04-18</th>\n",
       "      <td>0.939253</td>\n",
       "      <td>2.460194</td>\n",
       "      <td>0.013</td>\n",
       "      <td>0.989932</td>\n",
       "    </tr>\n",
       "  </tbody>\n",
       "</table>\n",
       "</div>"
      ],
      "text/plain": [
       "                 MAE        MSE   MAPE        R2\n",
       "2022-08-08  1.411480   4.774364  0.021  0.980461\n",
       "2022-07-25  1.551108   6.034516  0.022  0.975304\n",
       "2022-07-11  3.535364  36.465569  0.051  0.850764\n",
       "2022-06-27  1.329031   5.048349  0.018  0.979340\n",
       "2022-06-13  1.522522   6.230883  0.021  0.974500\n",
       "2022-05-30  1.063814   2.917251  0.015  0.988061\n",
       "2022-05-16  1.081329   3.057449  0.015  0.987487\n",
       "2022-05-02  1.057125   2.966587  0.015  0.987859\n",
       "2022-04-18  0.939253   2.460194  0.013  0.989932"
      ]
     },
     "execution_count": 5,
     "metadata": {},
     "output_type": "execute_result"
    }
   ],
   "source": [
    "errors_df = pd.DataFrame(errors).T\n",
    "errors_df.columns=['MAE', 'MSE', 'MAPE', 'R2']\n",
    "errors_df.index = pd.to_datetime(errors_df.index)\n",
    "errors_df"
   ]
  },
  {
   "cell_type": "code",
   "execution_count": 7,
   "id": "a669b65b-7a05-427b-a4fc-f2207719fa64",
   "metadata": {},
   "outputs": [
    {
     "data": {
      "image/png": "[encoded data removed]",
      "text/plain": [
       "<Figure size 1152x288 with 1 Axes>"
      ]
     },
     "metadata": {
      "needs_background": "light"
     },
     "output_type": "display_data"
    }
   ],
   "source": [
    "plt.style.use('seaborn-poster')\n",
    "errors_df_scaled = errors_df.copy()\n",
    "errors_df_scaled.iloc[:,1] = errors_df_scaled['MSE']/10\n",
    "errors_df_scaled.iloc[:,2] = errors_df_scaled['MAPE']*10\n",
    "errors_df_scaled.iloc[:,3] = errors_df_scaled['R2']*10\n",
    "errors_df_scaled.plot(figsize=(16,4), x_compat=True)\n",
    "plt.yticks([])\n",
    "plt.xticks(errors_df.index)\n",
    "plt.legend(loc='center right')\n",
    "plt.title(f\"RF increasing sample errors for {target} forecasting\")\n",
    "plt.tight_layout()\n",
    "plt.savefig(f\"Plots/rf/{target}_rolling_back.png\")\n",
    "plt.show()"
   ]
  },
  {
   "cell_type": "code",
   "execution_count": null,
   "id": "c2078595-32a2-4525-8095-a83a6ff9d772",
   "metadata": {},
   "outputs": [],
   "source": []
  }
 ],
 "metadata": {
  "kernelspec": {
   "display_name": "PYCARET",
   "language": "python",
   "name": "ml"
  },
  "language_info": {
   "codemirror_mode": {
    "name": "ipython",
    "version": 3
   },
   "file_extension": ".py",
   "mimetype": "text/x-python",
   "name": "python",
   "nbconvert_exporter": "python",
   "pygments_lexer": "ipython3",
   "version": "3.8.13"
  }
 },
 "nbformat": 4,
 "nbformat_minor": 5
}
