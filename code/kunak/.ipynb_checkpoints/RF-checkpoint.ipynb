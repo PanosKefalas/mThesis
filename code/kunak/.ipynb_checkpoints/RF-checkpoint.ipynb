{
 "cells": [
  {
   "cell_type": "code",
   "execution_count": 60,
   "id": "0e631b8a-6544-406c-a740-a598bf05c0d8",
   "metadata": {
    "tags": []
   },
   "outputs": [],
   "source": [
    "from pycaret.regression import *\n",
    "import pandas as pd\n",
    "import matplotlib.pyplot as plt\n",
    "from functions import accuracy\n",
    "from sklearn.metrics import mean_absolute_error, r2_score, mean_squared_error"
   ]
  },
  {
   "cell_type": "code",
   "execution_count": 61,
   "id": "d8fcb533-88ca-4e3f-84bc-0accfda19bb1",
   "metadata": {},
   "outputs": [
    {
     "data": {
      "text/html": [
       "<div>\n",
       "<style scoped>\n",
       "    .dataframe tbody tr th:only-of-type {\n",
       "        vertical-align: middle;\n",
       "    }\n",
       "\n",
       "    .dataframe tbody tr th {\n",
       "        vertical-align: top;\n",
       "    }\n",
       "\n",
       "    .dataframe thead th {\n",
       "        text-align: right;\n",
       "    }\n",
       "</style>\n",
       "<table border=\"1\" class=\"dataframe\">\n",
       "  <thead>\n",
       "    <tr style=\"text-align: right;\">\n",
       "      <th></th>\n",
       "      <th>Dew Point (C)</th>\n",
       "      <th>H2S (ppb)</th>\n",
       "      <th>NO2 (ppb)</th>\n",
       "      <th>Humidity (%)</th>\n",
       "      <th>O3 (ppb)</th>\n",
       "      <th>PM1 (ug/m3)</th>\n",
       "      <th>PM2.5 (ug/m3)</th>\n",
       "      <th>PM10 (ug/m3)</th>\n",
       "      <th>Temp (C)</th>\n",
       "    </tr>\n",
       "    <tr>\n",
       "      <th>Datetime</th>\n",
       "      <th></th>\n",
       "      <th></th>\n",
       "      <th></th>\n",
       "      <th></th>\n",
       "      <th></th>\n",
       "      <th></th>\n",
       "      <th></th>\n",
       "      <th></th>\n",
       "      <th></th>\n",
       "    </tr>\n",
       "  </thead>\n",
       "  <tbody>\n",
       "    <tr>\n",
       "      <th>2022-09-04 19:00:00</th>\n",
       "      <td>20.87</td>\n",
       "      <td>25.62</td>\n",
       "      <td>64.94</td>\n",
       "      <td>34.10</td>\n",
       "      <td>41.54</td>\n",
       "      <td>11.51</td>\n",
       "      <td>12.65</td>\n",
       "      <td>15.85</td>\n",
       "      <td>28.09</td>\n",
       "    </tr>\n",
       "    <tr>\n",
       "      <th>2022-09-04 20:00:00</th>\n",
       "      <td>20.86</td>\n",
       "      <td>23.35</td>\n",
       "      <td>68.57</td>\n",
       "      <td>30.23</td>\n",
       "      <td>42.27</td>\n",
       "      <td>12.30</td>\n",
       "      <td>13.43</td>\n",
       "      <td>16.74</td>\n",
       "      <td>27.15</td>\n",
       "    </tr>\n",
       "    <tr>\n",
       "      <th>2022-09-04 21:00:00</th>\n",
       "      <td>20.92</td>\n",
       "      <td>17.31</td>\n",
       "      <td>71.04</td>\n",
       "      <td>25.90</td>\n",
       "      <td>42.23</td>\n",
       "      <td>12.83</td>\n",
       "      <td>13.93</td>\n",
       "      <td>17.00</td>\n",
       "      <td>26.60</td>\n",
       "    </tr>\n",
       "    <tr>\n",
       "      <th>2022-09-04 22:00:00</th>\n",
       "      <td>21.00</td>\n",
       "      <td>12.59</td>\n",
       "      <td>72.10</td>\n",
       "      <td>22.36</td>\n",
       "      <td>39.23</td>\n",
       "      <td>12.68</td>\n",
       "      <td>13.68</td>\n",
       "      <td>16.48</td>\n",
       "      <td>26.44</td>\n",
       "    </tr>\n",
       "    <tr>\n",
       "      <th>2022-09-04 23:00:00</th>\n",
       "      <td>21.65</td>\n",
       "      <td>18.57</td>\n",
       "      <td>79.41</td>\n",
       "      <td>25.57</td>\n",
       "      <td>42.37</td>\n",
       "      <td>12.88</td>\n",
       "      <td>14.02</td>\n",
       "      <td>18.21</td>\n",
       "      <td>25.55</td>\n",
       "    </tr>\n",
       "  </tbody>\n",
       "</table>\n",
       "</div>"
      ],
      "text/plain": [
       "                     Dew Point (C)  H2S (ppb)  NO2 (ppb)  Humidity (%)  \\\n",
       "Datetime                                                                 \n",
       "2022-09-04 19:00:00          20.87      25.62      64.94         34.10   \n",
       "2022-09-04 20:00:00          20.86      23.35      68.57         30.23   \n",
       "2022-09-04 21:00:00          20.92      17.31      71.04         25.90   \n",
       "2022-09-04 22:00:00          21.00      12.59      72.10         22.36   \n",
       "2022-09-04 23:00:00          21.65      18.57      79.41         25.57   \n",
       "\n",
       "                     O3 (ppb)  PM1 (ug/m3)  PM2.5 (ug/m3)  PM10 (ug/m3)  \\\n",
       "Datetime                                                                  \n",
       "2022-09-04 19:00:00     41.54        11.51          12.65         15.85   \n",
       "2022-09-04 20:00:00     42.27        12.30          13.43         16.74   \n",
       "2022-09-04 21:00:00     42.23        12.83          13.93         17.00   \n",
       "2022-09-04 22:00:00     39.23        12.68          13.68         16.48   \n",
       "2022-09-04 23:00:00     42.37        12.88          14.02         18.21   \n",
       "\n",
       "                     Temp (C)  \n",
       "Datetime                       \n",
       "2022-09-04 19:00:00     28.09  \n",
       "2022-09-04 20:00:00     27.15  \n",
       "2022-09-04 21:00:00     26.60  \n",
       "2022-09-04 22:00:00     26.44  \n",
       "2022-09-04 23:00:00     25.55  "
      ]
     },
     "execution_count": 61,
     "metadata": {},
     "output_type": "execute_result"
    }
   ],
   "source": [
    "df_raw = pd.read_csv('kunak_filled.csv', parse_dates=[0], index_col=0)\n",
    "df = df_raw.copy()[:]\n",
    "df.tail()"
   ]
  },
  {
   "cell_type": "code",
   "execution_count": 62,
   "id": "ca1fba54-50b4-4724-a049-58af1e8bfa26",
   "metadata": {},
   "outputs": [],
   "source": [
    "steps = 7*24\n",
    "train = df[:-steps]\n",
    "test = df[-steps:]\n",
    "\n",
    "target = 'PM2.5 (ug/m3)'\n",
    "numeric_features = df.columns.drop(target, 'PM1 (ug/m3)', 'PM10 (ug/m3)').to_list()"
   ]
  },
  {
   "cell_type": "code",
   "execution_count": 63,
   "id": "15b3e9ee-2556-4c0a-90c7-532ecf0f340d",
   "metadata": {
    "tags": []
   },
   "outputs": [],
   "source": [
    "s = setup(data=train, test_data=test, target=target, fold_strategy='timeseries',\n",
    "          numeric_features=numeric_features,\n",
    "          fold=10,silent=True, session_id=123, verbose=0)"
   ]
  },
  {
   "cell_type": "markdown",
   "id": "9c700045-3b8f-44ed-80e3-a23b5a938d9a",
   "metadata": {},
   "source": [
    "### Training and Validation of various models"
   ]
  },
  {
   "cell_type": "code",
   "execution_count": 64,
   "id": "d9f9dd39-0382-407f-847a-ec1f6591e43c",
   "metadata": {
    "tags": []
   },
   "outputs": [],
   "source": [
    "#comparison = compare_models()"
   ]
  },
  {
   "cell_type": "markdown",
   "id": "a98cd51b-0e41-4c5b-9505-d6902cacc591",
   "metadata": {},
   "source": [
    "### Επιλογή Random Forest (αποδεκτές επιδόσεις, δοκιμασμένος στη βιβλιογραφία)"
   ]
  },
  {
   "cell_type": "code",
   "execution_count": 65,
   "id": "843774f1-9e4b-4e38-ab07-780f5c9db440",
   "metadata": {
    "tags": []
   },
   "outputs": [
    {
     "data": {
      "text/html": [
       "<style type=\"text/css\">\n",
       "#T_23359_row10_col0, #T_23359_row10_col1, #T_23359_row10_col2, #T_23359_row10_col3, #T_23359_row10_col4, #T_23359_row10_col5 {\n",
       "  background: yellow;\n",
       "}\n",
       "</style>\n",
       "<table id=\"T_23359\">\n",
       "  <thead>\n",
       "    <tr>\n",
       "      <th class=\"blank level0\" >&nbsp;</th>\n",
       "      <th id=\"T_23359_level0_col0\" class=\"col_heading level0 col0\" >MAE</th>\n",
       "      <th id=\"T_23359_level0_col1\" class=\"col_heading level0 col1\" >MSE</th>\n",
       "      <th id=\"T_23359_level0_col2\" class=\"col_heading level0 col2\" >RMSE</th>\n",
       "      <th id=\"T_23359_level0_col3\" class=\"col_heading level0 col3\" >R2</th>\n",
       "      <th id=\"T_23359_level0_col4\" class=\"col_heading level0 col4\" >RMSLE</th>\n",
       "      <th id=\"T_23359_level0_col5\" class=\"col_heading level0 col5\" >MAPE</th>\n",
       "    </tr>\n",
       "    <tr>\n",
       "      <th class=\"index_name level0\" >Fold</th>\n",
       "      <th class=\"blank col0\" >&nbsp;</th>\n",
       "      <th class=\"blank col1\" >&nbsp;</th>\n",
       "      <th class=\"blank col2\" >&nbsp;</th>\n",
       "      <th class=\"blank col3\" >&nbsp;</th>\n",
       "      <th class=\"blank col4\" >&nbsp;</th>\n",
       "      <th class=\"blank col5\" >&nbsp;</th>\n",
       "    </tr>\n",
       "  </thead>\n",
       "  <tbody>\n",
       "    <tr>\n",
       "      <th id=\"T_23359_level0_row0\" class=\"row_heading level0 row0\" >0</th>\n",
       "      <td id=\"T_23359_row0_col0\" class=\"data row0 col0\" >1.2057</td>\n",
       "      <td id=\"T_23359_row0_col1\" class=\"data row0 col1\" >3.2874</td>\n",
       "      <td id=\"T_23359_row0_col2\" class=\"data row0 col2\" >1.8131</td>\n",
       "      <td id=\"T_23359_row0_col3\" class=\"data row0 col3\" >0.8149</td>\n",
       "      <td id=\"T_23359_row0_col4\" class=\"data row0 col4\" >0.1756</td>\n",
       "      <td id=\"T_23359_row0_col5\" class=\"data row0 col5\" >0.1145</td>\n",
       "    </tr>\n",
       "    <tr>\n",
       "      <th id=\"T_23359_level0_row1\" class=\"row_heading level0 row1\" >1</th>\n",
       "      <td id=\"T_23359_row1_col0\" class=\"data row1 col0\" >0.3716</td>\n",
       "      <td id=\"T_23359_row1_col1\" class=\"data row1 col1\" >0.3986</td>\n",
       "      <td id=\"T_23359_row1_col2\" class=\"data row1 col2\" >0.6314</td>\n",
       "      <td id=\"T_23359_row1_col3\" class=\"data row1 col3\" >0.9716</td>\n",
       "      <td id=\"T_23359_row1_col4\" class=\"data row1 col4\" >0.0798</td>\n",
       "      <td id=\"T_23359_row1_col5\" class=\"data row1 col5\" >0.0534</td>\n",
       "    </tr>\n",
       "    <tr>\n",
       "      <th id=\"T_23359_level0_row2\" class=\"row_heading level0 row2\" >2</th>\n",
       "      <td id=\"T_23359_row2_col0\" class=\"data row2 col0\" >0.3081</td>\n",
       "      <td id=\"T_23359_row2_col1\" class=\"data row2 col1\" >0.1732</td>\n",
       "      <td id=\"T_23359_row2_col2\" class=\"data row2 col2\" >0.4162</td>\n",
       "      <td id=\"T_23359_row2_col3\" class=\"data row2 col3\" >0.9935</td>\n",
       "      <td id=\"T_23359_row2_col4\" class=\"data row2 col4\" >0.0503</td>\n",
       "      <td id=\"T_23359_row2_col5\" class=\"data row2 col5\" >0.0468</td>\n",
       "    </tr>\n",
       "    <tr>\n",
       "      <th id=\"T_23359_level0_row3\" class=\"row_heading level0 row3\" >3</th>\n",
       "      <td id=\"T_23359_row3_col0\" class=\"data row3 col0\" >0.3878</td>\n",
       "      <td id=\"T_23359_row3_col1\" class=\"data row3 col1\" >0.7869</td>\n",
       "      <td id=\"T_23359_row3_col2\" class=\"data row3 col2\" >0.8871</td>\n",
       "      <td id=\"T_23359_row3_col3\" class=\"data row3 col3\" >0.9416</td>\n",
       "      <td id=\"T_23359_row3_col4\" class=\"data row3 col4\" >0.0801</td>\n",
       "      <td id=\"T_23359_row3_col5\" class=\"data row3 col5\" >0.0509</td>\n",
       "    </tr>\n",
       "    <tr>\n",
       "      <th id=\"T_23359_level0_row4\" class=\"row_heading level0 row4\" >4</th>\n",
       "      <td id=\"T_23359_row4_col0\" class=\"data row4 col0\" >0.2704</td>\n",
       "      <td id=\"T_23359_row4_col1\" class=\"data row4 col1\" >0.1780</td>\n",
       "      <td id=\"T_23359_row4_col2\" class=\"data row4 col2\" >0.4219</td>\n",
       "      <td id=\"T_23359_row4_col3\" class=\"data row4 col3\" >0.9875</td>\n",
       "      <td id=\"T_23359_row4_col4\" class=\"data row4 col4\" >0.0419</td>\n",
       "      <td id=\"T_23359_row4_col5\" class=\"data row4 col5\" >0.0367</td>\n",
       "    </tr>\n",
       "    <tr>\n",
       "      <th id=\"T_23359_level0_row5\" class=\"row_heading level0 row5\" >5</th>\n",
       "      <td id=\"T_23359_row5_col0\" class=\"data row5 col0\" >0.2962</td>\n",
       "      <td id=\"T_23359_row5_col1\" class=\"data row5 col1\" >0.1994</td>\n",
       "      <td id=\"T_23359_row5_col2\" class=\"data row5 col2\" >0.4465</td>\n",
       "      <td id=\"T_23359_row5_col3\" class=\"data row5 col3\" >0.9700</td>\n",
       "      <td id=\"T_23359_row5_col4\" class=\"data row5 col4\" >0.0580</td>\n",
       "      <td id=\"T_23359_row5_col5\" class=\"data row5 col5\" >0.0502</td>\n",
       "    </tr>\n",
       "    <tr>\n",
       "      <th id=\"T_23359_level0_row6\" class=\"row_heading level0 row6\" >6</th>\n",
       "      <td id=\"T_23359_row6_col0\" class=\"data row6 col0\" >0.2968</td>\n",
       "      <td id=\"T_23359_row6_col1\" class=\"data row6 col1\" >0.3473</td>\n",
       "      <td id=\"T_23359_row6_col2\" class=\"data row6 col2\" >0.5893</td>\n",
       "      <td id=\"T_23359_row6_col3\" class=\"data row6 col3\" >0.9306</td>\n",
       "      <td id=\"T_23359_row6_col4\" class=\"data row6 col4\" >0.0806</td>\n",
       "      <td id=\"T_23359_row6_col5\" class=\"data row6 col5\" >0.0691</td>\n",
       "    </tr>\n",
       "    <tr>\n",
       "      <th id=\"T_23359_level0_row7\" class=\"row_heading level0 row7\" >7</th>\n",
       "      <td id=\"T_23359_row7_col0\" class=\"data row7 col0\" >0.3056</td>\n",
       "      <td id=\"T_23359_row7_col1\" class=\"data row7 col1\" >0.1928</td>\n",
       "      <td id=\"T_23359_row7_col2\" class=\"data row7 col2\" >0.4391</td>\n",
       "      <td id=\"T_23359_row7_col3\" class=\"data row7 col3\" >0.9862</td>\n",
       "      <td id=\"T_23359_row7_col4\" class=\"data row7 col4\" >0.0439</td>\n",
       "      <td id=\"T_23359_row7_col5\" class=\"data row7 col5\" >0.0393</td>\n",
       "    </tr>\n",
       "    <tr>\n",
       "      <th id=\"T_23359_level0_row8\" class=\"row_heading level0 row8\" >8</th>\n",
       "      <td id=\"T_23359_row8_col0\" class=\"data row8 col0\" >0.1719</td>\n",
       "      <td id=\"T_23359_row8_col1\" class=\"data row8 col1\" >0.0477</td>\n",
       "      <td id=\"T_23359_row8_col2\" class=\"data row8 col2\" >0.2184</td>\n",
       "      <td id=\"T_23359_row8_col3\" class=\"data row8 col3\" >0.9869</td>\n",
       "      <td id=\"T_23359_row8_col4\" class=\"data row8 col4\" >0.0290</td>\n",
       "      <td id=\"T_23359_row8_col5\" class=\"data row8 col5\" >0.0279</td>\n",
       "    </tr>\n",
       "    <tr>\n",
       "      <th id=\"T_23359_level0_row9\" class=\"row_heading level0 row9\" >9</th>\n",
       "      <td id=\"T_23359_row9_col0\" class=\"data row9 col0\" >0.2502</td>\n",
       "      <td id=\"T_23359_row9_col1\" class=\"data row9 col1\" >0.1443</td>\n",
       "      <td id=\"T_23359_row9_col2\" class=\"data row9 col2\" >0.3799</td>\n",
       "      <td id=\"T_23359_row9_col3\" class=\"data row9 col3\" >0.9857</td>\n",
       "      <td id=\"T_23359_row9_col4\" class=\"data row9 col4\" >0.0369</td>\n",
       "      <td id=\"T_23359_row9_col5\" class=\"data row9 col5\" >0.0287</td>\n",
       "    </tr>\n",
       "    <tr>\n",
       "      <th id=\"T_23359_level0_row10\" class=\"row_heading level0 row10\" >Mean</th>\n",
       "      <td id=\"T_23359_row10_col0\" class=\"data row10 col0\" >0.3864</td>\n",
       "      <td id=\"T_23359_row10_col1\" class=\"data row10 col1\" >0.5756</td>\n",
       "      <td id=\"T_23359_row10_col2\" class=\"data row10 col2\" >0.6243</td>\n",
       "      <td id=\"T_23359_row10_col3\" class=\"data row10 col3\" >0.9569</td>\n",
       "      <td id=\"T_23359_row10_col4\" class=\"data row10 col4\" >0.0676</td>\n",
       "      <td id=\"T_23359_row10_col5\" class=\"data row10 col5\" >0.0518</td>\n",
       "    </tr>\n",
       "    <tr>\n",
       "      <th id=\"T_23359_level0_row11\" class=\"row_heading level0 row11\" >Std</th>\n",
       "      <td id=\"T_23359_row11_col0\" class=\"data row11 col0\" >0.2790</td>\n",
       "      <td id=\"T_23359_row11_col1\" class=\"data row11 col1\" >0.9249</td>\n",
       "      <td id=\"T_23359_row11_col2\" class=\"data row11 col2\" >0.4311</td>\n",
       "      <td id=\"T_23359_row11_col3\" class=\"data row11 col3\" >0.0513</td>\n",
       "      <td id=\"T_23359_row11_col4\" class=\"data row11 col4\" >0.0402</td>\n",
       "      <td id=\"T_23359_row11_col5\" class=\"data row11 col5\" >0.0240</td>\n",
       "    </tr>\n",
       "  </tbody>\n",
       "</table>\n"
      ],
      "text/plain": [
       "<pandas.io.formats.style.Styler at 0x16298f16940>"
      ]
     },
     "metadata": {},
     "output_type": "display_data"
    }
   ],
   "source": [
    "model = create_model('rf')"
   ]
  },
  {
   "cell_type": "markdown",
   "id": "155dcdd2-02ce-45c3-ba7d-03152efa7ab9",
   "metadata": {},
   "source": [
    "### Πρόβλεψη NO2"
   ]
  },
  {
   "cell_type": "code",
   "execution_count": 66,
   "id": "63f04bb4-5892-4bbc-8c82-3a88096a2712",
   "metadata": {},
   "outputs": [
    {
     "data": {
      "text/html": [
       "<style type=\"text/css\">\n",
       "</style>\n",
       "<table id=\"T_7f398\">\n",
       "  <thead>\n",
       "    <tr>\n",
       "      <th class=\"blank level0\" >&nbsp;</th>\n",
       "      <th id=\"T_7f398_level0_col0\" class=\"col_heading level0 col0\" >Model</th>\n",
       "      <th id=\"T_7f398_level0_col1\" class=\"col_heading level0 col1\" >MAE</th>\n",
       "      <th id=\"T_7f398_level0_col2\" class=\"col_heading level0 col2\" >MSE</th>\n",
       "      <th id=\"T_7f398_level0_col3\" class=\"col_heading level0 col3\" >RMSE</th>\n",
       "      <th id=\"T_7f398_level0_col4\" class=\"col_heading level0 col4\" >R2</th>\n",
       "      <th id=\"T_7f398_level0_col5\" class=\"col_heading level0 col5\" >RMSLE</th>\n",
       "      <th id=\"T_7f398_level0_col6\" class=\"col_heading level0 col6\" >MAPE</th>\n",
       "    </tr>\n",
       "  </thead>\n",
       "  <tbody>\n",
       "    <tr>\n",
       "      <th id=\"T_7f398_level0_row0\" class=\"row_heading level0 row0\" >0</th>\n",
       "      <td id=\"T_7f398_row0_col0\" class=\"data row0 col0\" >Random Forest Regressor</td>\n",
       "      <td id=\"T_7f398_row0_col1\" class=\"data row0 col1\" >0.2605</td>\n",
       "      <td id=\"T_7f398_row0_col2\" class=\"data row0 col2\" >0.1444</td>\n",
       "      <td id=\"T_7f398_row0_col3\" class=\"data row0 col3\" >0.3800</td>\n",
       "      <td id=\"T_7f398_row0_col4\" class=\"data row0 col4\" >0.9844</td>\n",
       "      <td id=\"T_7f398_row0_col5\" class=\"data row0 col5\" >0.0302</td>\n",
       "      <td id=\"T_7f398_row0_col6\" class=\"data row0 col6\" >0.0234</td>\n",
       "    </tr>\n",
       "  </tbody>\n",
       "</table>\n"
      ],
      "text/plain": [
       "<pandas.io.formats.style.Styler at 0x16296b92fd0>"
      ]
     },
     "metadata": {},
     "output_type": "display_data"
    }
   ],
   "source": [
    "predictions = predict_model(model, data=test)"
   ]
  },
  {
   "cell_type": "code",
   "execution_count": 75,
   "id": "46cfe56d-e618-481a-a95d-337a3f93d7fb",
   "metadata": {},
   "outputs": [
    {
     "name": "stdout",
     "output_type": "stream",
     "text": [
      "MAE     0.260\n",
      "MSE     0.144\n",
      "MAPE    0.024\n",
      "R2      0.984\n",
      "dtype: float64\n"
     ]
    }
   ],
   "source": [
    "errors_list = [mean_absolute_error(predictions[target], predictions.Label),\n",
    "               mean_squared_error(predictions[target], predictions.Label),\n",
    "              accuracy(predictions[target], predictions.Label)['mape'],\n",
    "              r2_score(predictions[target], predictions.Label)]\n",
    "\n",
    "errors_series = pd.Series(errors_list, index=['MAE','MSE','MAPE','R2'])\n",
    "target_name = 'PM2.5' if target=='PM2.5 (ug/m3)' else target\n",
    "errors_series.to_csv(f'{target_name}_rf_metrics.csv')\n",
    "print(errors_series.round(3))"
   ]
  },
  {
   "cell_type": "code",
   "execution_count": 76,
   "id": "2f83862f-88e1-448d-b465-9b56216cc861",
   "metadata": {
    "tags": []
   },
   "outputs": [
    {
     "data": {
      "image/png": "[encoded data removed]",
      "text/plain": [
       "<Figure size 1008x360 with 1 Axes>"
      ]
     },
     "metadata": {
      "needs_background": "light"
     },
     "output_type": "display_data"
    }
   ],
   "source": [
    "plt.style.use('seaborn-poster')\n",
    "predictions[[target, 'Label']].plot(figsize=(14,5))\n",
    "plt.legend([f'Actual {target_name}', f'Predicted {target_name}'])\n",
    "plt.title(f\"Random Forest model for {target_name}\")\n",
    "plt.savefig(f\"Plots/rf/{target_name}rf.png\")\n",
    "plt.show()"
   ]
  },
  {
   "cell_type": "code",
   "execution_count": 74,
   "id": "b51dda06-c842-4d4c-8723-5ee71f447ed2",
   "metadata": {},
   "outputs": [
    {
     "data": {
      "text/plain": [
       "'Feature Importance.png'"
      ]
     },
     "execution_count": 74,
     "metadata": {},
     "output_type": "execute_result"
    }
   ],
   "source": [
    "plot_model(model, plot='feature', save=True)"
   ]
  },
  {
   "cell_type": "code",
   "execution_count": null,
   "id": "107525ff-94a6-4d49-8dd5-0907ba78f34c",
   "metadata": {},
   "outputs": [],
   "source": []
  }
 ],
 "metadata": {
  "kernelspec": {
   "display_name": "PYCARET",
   "language": "python",
   "name": "ml"
  },
  "language_info": {
   "codemirror_mode": {
    "name": "ipython",
    "version": 3
   },
   "file_extension": ".py",
   "mimetype": "text/x-python",
   "name": "python",
   "nbconvert_exporter": "python",
   "pygments_lexer": "ipython3",
   "version": "3.8.13"
  }
 },
 "nbformat": 4,
 "nbformat_minor": 5
}
