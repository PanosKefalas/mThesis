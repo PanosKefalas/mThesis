{
 "cells": [
  {
   "cell_type": "code",
   "execution_count": 1,
   "id": "b5bc231d-dbd3-442d-9f13-66ce3e88eadd",
   "metadata": {},
   "outputs": [
    {
     "ename": "ImportError",
     "evalue": "cannot import name 'mean_absolute_percentage_error' from 'sklearn.metrics' (C:\\Users\\User\\anaconda3\\envs\\ML\\lib\\site-packages\\sklearn\\metrics\\__init__.py)",
     "output_type": "error",
     "traceback": [
      "\u001b[1;31m---------------------------------------------------------------------------\u001b[0m",
      "\u001b[1;31mImportError\u001b[0m                               Traceback (most recent call last)",
      "\u001b[1;32m~\\AppData\\Local\\Temp\\ipykernel_5916\\3291779860.py\u001b[0m in \u001b[0;36m<module>\u001b[1;34m\u001b[0m\n\u001b[0;32m      3\u001b[0m \u001b[1;32mfrom\u001b[0m \u001b[0mmatplotlib\u001b[0m \u001b[1;32mimport\u001b[0m \u001b[0mpyplot\u001b[0m \u001b[1;32mas\u001b[0m \u001b[0mplt\u001b[0m\u001b[1;33m\u001b[0m\u001b[1;33m\u001b[0m\u001b[0m\n\u001b[0;32m      4\u001b[0m \u001b[1;32mfrom\u001b[0m \u001b[0mstatsmodels\u001b[0m\u001b[1;33m.\u001b[0m\u001b[0mtsa\u001b[0m\u001b[1;33m.\u001b[0m\u001b[0marima\u001b[0m\u001b[1;33m.\u001b[0m\u001b[0mmodel\u001b[0m \u001b[1;32mimport\u001b[0m \u001b[0mARIMA\u001b[0m\u001b[1;33m\u001b[0m\u001b[1;33m\u001b[0m\u001b[0m\n\u001b[1;32m----> 5\u001b[1;33m \u001b[1;32mfrom\u001b[0m \u001b[0msklearn\u001b[0m\u001b[1;33m.\u001b[0m\u001b[0mmetrics\u001b[0m \u001b[1;32mimport\u001b[0m \u001b[0mmean_absolute_error\u001b[0m\u001b[1;33m,\u001b[0m\u001b[0mmean_absolute_percentage_error\u001b[0m\u001b[1;33m,\u001b[0m \u001b[0mr2_score\u001b[0m\u001b[1;33m,\u001b[0m \u001b[0mmean_squared_error\u001b[0m\u001b[1;33m\u001b[0m\u001b[1;33m\u001b[0m\u001b[0m\n\u001b[0m",
      "\u001b[1;31mImportError\u001b[0m: cannot import name 'mean_absolute_percentage_error' from 'sklearn.metrics' (C:\\Users\\User\\anaconda3\\envs\\ML\\lib\\site-packages\\sklearn\\metrics\\__init__.py)"
     ]
    }
   ],
   "source": [
    "import pandas as pd\n",
    "import numpy as np\n",
    "from matplotlib import pyplot as plt\n",
    "from statsmodels.tsa.arima.model import ARIMA\n",
    "from sklearn.metrics import mean_absolute_error,mean_absolute_percentage_error, r2_score, mean_squared_error"
   ]
  },
  {
   "cell_type": "code",
   "execution_count": null,
   "id": "a7e76e21-e3b6-4b4e-96f3-b7e47f832ace",
   "metadata": {},
   "outputs": [],
   "source": [
    "df_raw = pd.read_csv('kunak_filled.csv', parse_dates=[0], index_col=0)\n",
    "df=df_raw.asfreq('H')"
   ]
  },
  {
   "cell_type": "code",
   "execution_count": null,
   "id": "18e7a2da-67d0-4377-bd81-4bb4de5375a3",
   "metadata": {},
   "outputs": [],
   "source": [
    "week = 24*7\n",
    "month = week*4\n",
    "step = 0\n",
    "errors = {}"
   ]
  },
  {
   "cell_type": "code",
   "execution_count": null,
   "id": "5254d01f-3559-4fb1-a60c-b825bd0f3b35",
   "metadata": {},
   "outputs": [],
   "source": [
    "while step<=3: #(df.shape[0]//week):\n",
    "    \n",
    "    date_from = step*week\n",
    "    date_to = month + date_from\n",
    "    \n",
    "    if (date_to+24) > df.shape[0]:\n",
    "        print('Complete')\n",
    "        break\n",
    "    \n",
    "    sample = df[date_from : date_to].copy()\n",
    "    \n",
    "    target = 'NO2 (ppb)'\n",
    "    steps = int(sample.shape[0]*0.1)\n",
    "    \n",
    "    train = sample[:-steps]\n",
    "    test = sample[-steps:]\n",
    "    \n",
    "    train_y, train_X = train[target], train.drop(columns=[target, 'PM1 (ug/m3)', 'PM2.5 (ug/m3)','PM10 (ug/m3)', 'Temp (C)'])\n",
    "    test_y, test_X = test[target], test.drop(columns=[target, 'PM1 (ug/m3)', 'PM2.5 (ug/m3)', 'PM10 (ug/m3)', 'Temp (C)'])\n",
    "    \n",
    "    p,d,q = 1,1,2\n",
    "    P,D,Q,m = 1,0,1,24\n",
    "    \n",
    "    sarimax_model = ARIMA(endog=train_y, exog=train_X, order=(p,d,q), seasonal_order=(P,D,Q, m))\n",
    "    sarimax_results = sarimax_model.fit(method_kwargs={\"warn_convergence\": False})\n",
    "    \n",
    "    prediction_steps = steps\n",
    "    predictions = sarimax_results.get_forecast(prediction_steps, exog=test_X)\n",
    "    \n",
    "    predicted_values_sarimax = predictions.summary_frame()['mean']\n",
    "    actual = test_y\n",
    "    \n",
    "    errors_list = [mean_absolute_error(predicted_values_sarimax, actual),\n",
    "                   mean_squared_error(predicted_values_sarimax, actual),\n",
    "                   mean_absolute_percentage_error(predicted_values_sarimax, actual),\n",
    "                   r2_score(predicted_values_sarimax, actual)]\n",
    "    \n",
    "    \n",
    "    \n",
    "    errors[str(df.index[date_to+24].date())] = errors_list\n",
    "    step += 1"
   ]
  },
  {
   "cell_type": "code",
   "execution_count": null,
   "id": "6ec96589-d7aa-40a8-b49e-c734aaa6b35d",
   "metadata": {},
   "outputs": [],
   "source": [
    "errors_df = pd.DataFrame(errors).T\n",
    "errors_df.columns=['MAE', 'MSE', 'MAPE', 'R2']\n",
    "errors_df.index = pd.to_datetime(errors_df.index)\n",
    "errors_df"
   ]
  },
  {
   "cell_type": "code",
   "execution_count": null,
   "id": "34077357-b40c-48e8-839e-f4d4ed9041f7",
   "metadata": {},
   "outputs": [],
   "source": [
    "plt.style.use('seaborn')\n",
    "errors_df_scaled = errors_df.copy()\n",
    "errors_df_scaled.iloc[:,1] = errors_df_scaled['MSE']/10\n",
    "errors_df_scaled.iloc[:,2] = errors_df_scaled['MAPE']*10\n",
    "errors_df_scaled.iloc[:,3] = errors_df_scaled['R2']*10\n",
    "errors_df_scaled.plot(figsize=(16,4), x_compat=True)\n",
    "plt.yticks([])\n",
    "plt.xticks(errors_df.index)\n",
    "plt.show()"
   ]
  }
 ],
 "metadata": {
  "kernelspec": {
   "display_name": "Python 3 (ipykernel)",
   "language": "python",
   "name": "python3"
  },
  "language_info": {
   "codemirror_mode": {
    "name": "ipython",
    "version": 3
   },
   "file_extension": ".py",
   "mimetype": "text/x-python",
   "name": "python",
   "nbconvert_exporter": "python",
   "pygments_lexer": "ipython3",
   "version": "3.8.13"
  }
 },
 "nbformat": 4,
 "nbformat_minor": 5
}
