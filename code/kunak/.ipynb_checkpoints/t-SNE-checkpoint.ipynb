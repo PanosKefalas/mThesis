{
 "cells": [
  {
   "cell_type": "code",
   "execution_count": 3,
   "id": "80e85869-4c3e-4b24-aa97-d5eb8451c485",
   "metadata": {},
   "outputs": [],
   "source": [
    "import pandas as pd\n",
    "import matplotlib.pyplot as plt\n",
    "import seaborn as sns\n",
    "from sklearn.decomposition import PCA\n",
    "from sklearn.cluster import KMeans\n",
    "from sklearn.manifold import TSNE\n",
    "from sklearn.preprocessing import StandardScaler, MinMaxScaler"
   ]
  },
  {
   "cell_type": "code",
   "execution_count": 38,
   "id": "853d0801-5469-4506-8989-fe1f69666fbc",
   "metadata": {},
   "outputs": [],
   "source": [
    "df = pd.read_csv('kunak_filled.csv', parse_dates=[0], index_col=0).resample('D').mean()"
   ]
  },
  {
   "cell_type": "code",
   "execution_count": 39,
   "id": "c71582c8-7bec-4ab5-8829-9272bd1e03c4",
   "metadata": {},
   "outputs": [],
   "source": [
    "df[:] = StandardScaler().fit_transform(df)"
   ]
  },
  {
   "cell_type": "code",
   "execution_count": 52,
   "id": "584c220e-140b-45c6-a9e7-75d95d98c399",
   "metadata": {},
   "outputs": [
    {
     "name": "stdout",
     "output_type": "stream",
     "text": [
      "[t-SNE] Computing 46 nearest neighbors...\n",
      "[t-SNE] Indexed 101 samples in 0.000s...\n",
      "[t-SNE] Computed neighbors for 101 samples in 0.003s...\n",
      "[t-SNE] Computed conditional probabilities for sample 101 / 101\n",
      "[t-SNE] Mean sigma: 1.192148\n",
      "[t-SNE] KL divergence after 250 iterations with early exaggeration: 63.068375\n",
      "[t-SNE] KL divergence after 1000 iterations: 0.415621\n"
     ]
    }
   ],
   "source": [
    "tsne = TSNE(perplexity=15, n_iter=1000, verbose=1)\n",
    "tsne_results = tsne.fit_transform(df)"
   ]
  },
  {
   "cell_type": "code",
   "execution_count": 53,
   "id": "7301ef75-5909-443f-ba5a-533e368948db",
   "metadata": {},
   "outputs": [
    {
     "data": {
      "image/png": "[encoded data removed]",
      "text/plain": [
       "<Figure size 720x576 with 1 Axes>"
      ]
     },
     "metadata": {
      "needs_background": "light"
     },
     "output_type": "display_data"
    }
   ],
   "source": [
    "plt.figure(figsize=(10,8))\n",
    "sns.scatterplot(x=tsne_results[:,0], y=tsne_results[:,1])\n",
    "plt.show()"
   ]
  },
  {
   "cell_type": "code",
   "execution_count": null,
   "id": "337fc4e5-498f-4229-969a-d8a448e8c53f",
   "metadata": {},
   "outputs": [],
   "source": []
  }
 ],
 "metadata": {
  "kernelspec": {
   "display_name": "Python 3",
   "language": "python",
   "name": "python3"
  },
  "language_info": {
   "codemirror_mode": {
    "name": "ipython",
    "version": 3
   },
   "file_extension": ".py",
   "mimetype": "text/x-python",
   "name": "python",
   "nbconvert_exporter": "python",
   "pygments_lexer": "ipython3",
   "version": "3.8.8"
  }
 },
 "nbformat": 4,
 "nbformat_minor": 5
}
