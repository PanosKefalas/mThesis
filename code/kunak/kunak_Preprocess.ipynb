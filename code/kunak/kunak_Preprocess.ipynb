{
 "cells": [
  {
   "cell_type": "markdown",
   "id": "e8d99e77-dc8e-429d-a9f1-5512521e87a3",
   "metadata": {},
   "source": [
    "# Ανάκτηση και προεπεξεργασία δεδομένων σταθμού Kunak."
   ]
  },
  {
   "cell_type": "code",
   "execution_count": 3,
   "id": "a2a1a7f2-1ae5-4bbe-adb4-a8bf443fb01f",
   "metadata": {},
   "outputs": [],
   "source": [
    "import pandas as pd\n",
    "import numpy as np\n",
    "from sklearn.impute import KNNImputer\n",
    "import matplotlib.pyplot as plt\n",
    "from sklearn.metrics import mean_absolute_error,mean_absolute_percentage_error, r2_score, mean_squared_error\n",
    "import seaborn as sns\n",
    "#plt.style.use('seaborn')"
   ]
  },
  {
   "cell_type": "markdown",
   "id": "72df6374-6d91-44f4-9709-c6251429bd30",
   "metadata": {},
   "source": [
    "#### Final Datetime 2022-09-05 00:00:00"
   ]
  },
  {
   "cell_type": "code",
   "execution_count": 4,
   "id": "6f61b080-8c8d-4bdf-8fae-f8bf75b407c8",
   "metadata": {
    "tags": []
   },
   "outputs": [
    {
     "data": {
      "text/html": [
       "<div>\n",
       "<style scoped>\n",
       "    .dataframe tbody tr th:only-of-type {\n",
       "        vertical-align: middle;\n",
       "    }\n",
       "\n",
       "    .dataframe tbody tr th {\n",
       "        vertical-align: top;\n",
       "    }\n",
       "\n",
       "    .dataframe thead th {\n",
       "        text-align: right;\n",
       "    }\n",
       "</style>\n",
       "<table border=\"1\" class=\"dataframe\">\n",
       "  <thead>\n",
       "    <tr style=\"text-align: right;\">\n",
       "      <th></th>\n",
       "      <th>Dew Point (C)</th>\n",
       "      <th>H2S (ppb)</th>\n",
       "      <th>NO2 (ppb)</th>\n",
       "      <th>Humidity (%)</th>\n",
       "      <th>O3 (ppb)</th>\n",
       "      <th>PM1 (ug/m3)</th>\n",
       "      <th>PM2.5 (ug/m3)</th>\n",
       "      <th>PM10 (ug/m3)</th>\n",
       "      <th>Temp (C)</th>\n",
       "    </tr>\n",
       "    <tr>\n",
       "      <th>Datetime</th>\n",
       "      <th></th>\n",
       "      <th></th>\n",
       "      <th></th>\n",
       "      <th></th>\n",
       "      <th></th>\n",
       "      <th></th>\n",
       "      <th></th>\n",
       "      <th></th>\n",
       "      <th></th>\n",
       "    </tr>\n",
       "  </thead>\n",
       "  <tbody>\n",
       "    <tr>\n",
       "      <th>2022-09-04 23:56:54</th>\n",
       "      <td>22.29</td>\n",
       "      <td>26.88</td>\n",
       "      <td>93.87</td>\n",
       "      <td>33.69</td>\n",
       "      <td>41.93</td>\n",
       "      <td>8.54</td>\n",
       "      <td>9.39</td>\n",
       "      <td>10.43</td>\n",
       "      <td>23.34</td>\n",
       "    </tr>\n",
       "    <tr>\n",
       "      <th>2022-09-04 23:51:55</th>\n",
       "      <td>22.02</td>\n",
       "      <td>25.43</td>\n",
       "      <td>91.27</td>\n",
       "      <td>33.99</td>\n",
       "      <td>42.37</td>\n",
       "      <td>9.56</td>\n",
       "      <td>10.42</td>\n",
       "      <td>11.59</td>\n",
       "      <td>23.52</td>\n",
       "    </tr>\n",
       "    <tr>\n",
       "      <th>2022-09-04 23:46:52</th>\n",
       "      <td>22.43</td>\n",
       "      <td>24.63</td>\n",
       "      <td>89.84</td>\n",
       "      <td>27.52</td>\n",
       "      <td>50.39</td>\n",
       "      <td>11.50</td>\n",
       "      <td>12.59</td>\n",
       "      <td>15.51</td>\n",
       "      <td>24.20</td>\n",
       "    </tr>\n",
       "    <tr>\n",
       "      <th>2022-09-04 23:41:55</th>\n",
       "      <td>21.93</td>\n",
       "      <td>28.97</td>\n",
       "      <td>82.17</td>\n",
       "      <td>30.50</td>\n",
       "      <td>47.97</td>\n",
       "      <td>16.09</td>\n",
       "      <td>17.93</td>\n",
       "      <td>40.74</td>\n",
       "      <td>25.19</td>\n",
       "    </tr>\n",
       "    <tr>\n",
       "      <th>2022-09-04 23:36:52</th>\n",
       "      <td>21.62</td>\n",
       "      <td>23.78</td>\n",
       "      <td>77.83</td>\n",
       "      <td>27.73</td>\n",
       "      <td>44.59</td>\n",
       "      <td>16.75</td>\n",
       "      <td>18.47</td>\n",
       "      <td>25.92</td>\n",
       "      <td>25.79</td>\n",
       "    </tr>\n",
       "    <tr>\n",
       "      <th>...</th>\n",
       "      <td>...</td>\n",
       "      <td>...</td>\n",
       "      <td>...</td>\n",
       "      <td>...</td>\n",
       "      <td>...</td>\n",
       "      <td>...</td>\n",
       "      <td>...</td>\n",
       "      <td>...</td>\n",
       "      <td>...</td>\n",
       "    </tr>\n",
       "    <tr>\n",
       "      <th>2022-04-10 00:22:25</th>\n",
       "      <td>9.80</td>\n",
       "      <td>12.92</td>\n",
       "      <td>60.55</td>\n",
       "      <td>40.90</td>\n",
       "      <td>0.00</td>\n",
       "      <td>6.18</td>\n",
       "      <td>8.09</td>\n",
       "      <td>10.73</td>\n",
       "      <td>17.53</td>\n",
       "    </tr>\n",
       "    <tr>\n",
       "      <th>2022-04-10 00:17:27</th>\n",
       "      <td>9.79</td>\n",
       "      <td>18.48</td>\n",
       "      <td>60.66</td>\n",
       "      <td>44.45</td>\n",
       "      <td>0.00</td>\n",
       "      <td>6.62</td>\n",
       "      <td>8.65</td>\n",
       "      <td>12.31</td>\n",
       "      <td>17.48</td>\n",
       "    </tr>\n",
       "    <tr>\n",
       "      <th>2022-04-10 00:12:25</th>\n",
       "      <td>9.78</td>\n",
       "      <td>14.61</td>\n",
       "      <td>60.45</td>\n",
       "      <td>41.50</td>\n",
       "      <td>0.00</td>\n",
       "      <td>5.97</td>\n",
       "      <td>7.88</td>\n",
       "      <td>11.72</td>\n",
       "      <td>17.53</td>\n",
       "    </tr>\n",
       "    <tr>\n",
       "      <th>2022-04-10 00:07:26</th>\n",
       "      <td>9.64</td>\n",
       "      <td>18.79</td>\n",
       "      <td>59.78</td>\n",
       "      <td>44.23</td>\n",
       "      <td>0.00</td>\n",
       "      <td>6.21</td>\n",
       "      <td>8.20</td>\n",
       "      <td>13.85</td>\n",
       "      <td>17.55</td>\n",
       "    </tr>\n",
       "    <tr>\n",
       "      <th>2022-04-10 00:02:24</th>\n",
       "      <td>10.00</td>\n",
       "      <td>16.24</td>\n",
       "      <td>61.39</td>\n",
       "      <td>41.66</td>\n",
       "      <td>0.00</td>\n",
       "      <td>6.17</td>\n",
       "      <td>8.04</td>\n",
       "      <td>12.80</td>\n",
       "      <td>17.51</td>\n",
       "    </tr>\n",
       "  </tbody>\n",
       "</table>\n",
       "<p>42625 rows × 9 columns</p>\n",
       "</div>"
      ],
      "text/plain": [
       "                     Dew Point (C)  H2S (ppb)  NO2 (ppb)  Humidity (%)  \\\n",
       "Datetime                                                                 \n",
       "2022-09-04 23:56:54          22.29      26.88      93.87         33.69   \n",
       "2022-09-04 23:51:55          22.02      25.43      91.27         33.99   \n",
       "2022-09-04 23:46:52          22.43      24.63      89.84         27.52   \n",
       "2022-09-04 23:41:55          21.93      28.97      82.17         30.50   \n",
       "2022-09-04 23:36:52          21.62      23.78      77.83         27.73   \n",
       "...                            ...        ...        ...           ...   \n",
       "2022-04-10 00:22:25           9.80      12.92      60.55         40.90   \n",
       "2022-04-10 00:17:27           9.79      18.48      60.66         44.45   \n",
       "2022-04-10 00:12:25           9.78      14.61      60.45         41.50   \n",
       "2022-04-10 00:07:26           9.64      18.79      59.78         44.23   \n",
       "2022-04-10 00:02:24          10.00      16.24      61.39         41.66   \n",
       "\n",
       "                     O3 (ppb)  PM1 (ug/m3)  PM2.5 (ug/m3)  PM10 (ug/m3)  \\\n",
       "Datetime                                                                  \n",
       "2022-09-04 23:56:54     41.93         8.54           9.39         10.43   \n",
       "2022-09-04 23:51:55     42.37         9.56          10.42         11.59   \n",
       "2022-09-04 23:46:52     50.39        11.50          12.59         15.51   \n",
       "2022-09-04 23:41:55     47.97        16.09          17.93         40.74   \n",
       "2022-09-04 23:36:52     44.59        16.75          18.47         25.92   \n",
       "...                       ...          ...            ...           ...   \n",
       "2022-04-10 00:22:25      0.00         6.18           8.09         10.73   \n",
       "2022-04-10 00:17:27      0.00         6.62           8.65         12.31   \n",
       "2022-04-10 00:12:25      0.00         5.97           7.88         11.72   \n",
       "2022-04-10 00:07:26      0.00         6.21           8.20         13.85   \n",
       "2022-04-10 00:02:24      0.00         6.17           8.04         12.80   \n",
       "\n",
       "                     Temp (C)  \n",
       "Datetime                       \n",
       "2022-09-04 23:56:54     23.34  \n",
       "2022-09-04 23:51:55     23.52  \n",
       "2022-09-04 23:46:52     24.20  \n",
       "2022-09-04 23:41:55     25.19  \n",
       "2022-09-04 23:36:52     25.79  \n",
       "...                       ...  \n",
       "2022-04-10 00:22:25     17.53  \n",
       "2022-04-10 00:17:27     17.48  \n",
       "2022-04-10 00:12:25     17.53  \n",
       "2022-04-10 00:07:26     17.55  \n",
       "2022-04-10 00:02:24     17.51  \n",
       "\n",
       "[42625 rows x 9 columns]"
      ]
     },
     "execution_count": 4,
     "metadata": {},
     "output_type": "execute_result"
    }
   ],
   "source": [
    "df_raw = pd.read_csv('kunak.csv', delimiter=';', decimal=',', parse_dates=[1], index_col=1).drop(columns=['Device'])\n",
    "df = df_raw.loc['2022-09-05 00:00:00':,:'Temp ext (C)']\n",
    "df.columns = (['Dew Point (C)', 'H2S (ppb)', 'NO2 (ppb)', 'Humidity (%)',  'O3 (ppb)', 'PM1 (ug/m3)', 'PM2.5 (ug/m3)', 'PM10 (ug/m3)', 'Temp (C)'])\n",
    "df"
   ]
  },
  {
   "cell_type": "code",
   "execution_count": 5,
   "id": "b0d753aa-4fa2-497b-b307-4eddc11548a6",
   "metadata": {},
   "outputs": [
    {
     "name": "stdout",
     "output_type": "stream",
     "text": [
      "Dew Point (C)    0\n",
      "H2S (ppb)        0\n",
      "NO2 (ppb)        0\n",
      "Humidity (%)     0\n",
      "O3 (ppb)         0\n",
      "PM1 (ug/m3)      0\n",
      "PM2.5 (ug/m3)    0\n",
      "PM10 (ug/m3)     0\n",
      "Temp (C)         0\n",
      "dtype: int64\n"
     ]
    }
   ],
   "source": [
    "df[df<0] = np.nan\n",
    "print((df<0).sum())"
   ]
  },
  {
   "cell_type": "code",
   "execution_count": 6,
   "id": "fda839f8-56f6-4ff9-9c7c-d29c4e871a56",
   "metadata": {},
   "outputs": [
    {
     "name": "stdout",
     "output_type": "stream",
     "text": [
      "Dew Point (C)    445\n",
      "H2S (ppb)          0\n",
      "NO2 (ppb)          0\n",
      "Humidity (%)       0\n",
      "O3 (ppb)           0\n",
      "PM1 (ug/m3)       20\n",
      "PM2.5 (ug/m3)     20\n",
      "PM10 (ug/m3)      20\n",
      "Temp (C)           0\n",
      "dtype: int64\n"
     ]
    }
   ],
   "source": [
    "print(df.isna().sum())"
   ]
  },
  {
   "cell_type": "markdown",
   "id": "04efad94-d546-4abc-b964-22ceddfe9ff6",
   "metadata": {},
   "source": [
    "### Testing"
   ]
  },
  {
   "cell_type": "code",
   "execution_count": 7,
   "id": "b7eb0aa5-f319-4697-be00-79494d4e8fc1",
   "metadata": {},
   "outputs": [
    {
     "data": {
      "text/plain": [
       "Dew Point (C)      0\n",
       "H2S (ppb)          0\n",
       "NO2 (ppb)        168\n",
       "Humidity (%)       0\n",
       "O3 (ppb)           0\n",
       "PM1 (ug/m3)        0\n",
       "PM2.5 (ug/m3)      0\n",
       "PM10 (ug/m3)       0\n",
       "Temp (C)           0\n",
       "dtype: int64"
      ]
     },
     "execution_count": 7,
     "metadata": {},
     "output_type": "execute_result"
    }
   ],
   "source": [
    "target = 'NO2 (ppb)'\n",
    "target_name = 'PM2.5' if target=='PM2.5 (ug/m3)' else target\n",
    "df_test = df[:1000].copy().fillna(method='bfill')\n",
    "nan_list = []\n",
    "breaks = 15\n",
    "missing_values = 12\n",
    "for b in range(breaks+1):\n",
    "    nan_list.append(int(df_test.shape[0]/breaks*b))\n",
    "\n",
    "for i in nan_list[1:]:\n",
    "    df_test[target].iloc[i:i+missing_values] = np.nan\n",
    "\n",
    "df_test.isna().sum()"
   ]
  },
  {
   "cell_type": "code",
   "execution_count": 8,
   "id": "eff1ab8a-66ea-4518-b16d-388ac971d8c7",
   "metadata": {},
   "outputs": [
    {
     "data": {
      "image/png": "[encoded data removed]",
      "text/plain": [
       "<Figure size 864x432 with 1 Axes>"
      ]
     },
     "metadata": {
      "needs_background": "light"
     },
     "output_type": "display_data"
    }
   ],
   "source": [
    "plt.figure(figsize=(12,6))\n",
    "df_test[target][nan_list[10]-15:nan_list[11]+15].plot()\n",
    "plt.ylabel(f\"{target}\")\n",
    "#plt.tight_layout()\n",
    "plt.title(f\"Unfilled {target} testing sample\")\n",
    "plt.savefig(f'Plots/imputation/{target_name}_missing.png')\n",
    "plt.show()"
   ]
  },
  {
   "cell_type": "markdown",
   "id": "6e5eaf7d-b9bf-4125-9c7a-52c45bad6f5a",
   "metadata": {},
   "source": [
    "#### KNN Imputer"
   ]
  },
  {
   "cell_type": "code",
   "execution_count": 9,
   "id": "722f8a99-00ac-4152-9e4e-cec7cb0d7187",
   "metadata": {},
   "outputs": [],
   "source": [
    "imputer = KNNImputer(n_neighbors=5)\n",
    "\n",
    "df_knn = df_test.copy()\n",
    "df_knn[:] = imputer.fit_transform(df_knn)"
   ]
  },
  {
   "cell_type": "code",
   "execution_count": 10,
   "id": "78194a8a-0661-47d6-a697-0d2ac1ae6435",
   "metadata": {
    "tags": []
   },
   "outputs": [],
   "source": [
    "errors_list = [mean_absolute_error(df_knn[target], df[target][:1000]),\n",
    "               mean_squared_error(df_knn[target], df[target][:1000]),\n",
    "              r2_score(df_knn[target], df[target][:1000])]\n",
    "\n",
    "errors_knn = pd.Series(errors_list,  index=['MAE','MSE', 'R2'])"
   ]
  },
  {
   "cell_type": "markdown",
   "id": "9254d446-ba16-41b9-b987-3132a8982a0e",
   "metadata": {},
   "source": [
    "#### Linear Interpolation"
   ]
  },
  {
   "cell_type": "code",
   "execution_count": 11,
   "id": "b72a649c-7e43-4ea6-a2b3-956cc5426bfa",
   "metadata": {},
   "outputs": [],
   "source": [
    "df_linear = df_test.copy()\n",
    "df_linear.interpolate(method='linear', order=3,inplace=True)"
   ]
  },
  {
   "cell_type": "code",
   "execution_count": 12,
   "id": "d600bfd6-9986-4ca4-a1d8-cca2142dd8f6",
   "metadata": {
    "tags": []
   },
   "outputs": [],
   "source": [
    "errors_list = [mean_absolute_error(df_linear[target], df[target][:1000]),\n",
    "               mean_squared_error(df_linear[target], df[target][:1000]),\n",
    "              r2_score(df_linear[target], df[target][:1000])]\n",
    "\n",
    "errors_linear = pd.Series(errors_list,  index=['MAE','MSE', 'R2'])"
   ]
  },
  {
   "cell_type": "markdown",
   "id": "220e9ca3-4400-4b1d-89df-750184be0d71",
   "metadata": {},
   "source": [
    "#### Cubic Interpolation"
   ]
  },
  {
   "cell_type": "code",
   "execution_count": 13,
   "id": "5db2592a-8375-4e2b-b598-d745f9a4557f",
   "metadata": {},
   "outputs": [],
   "source": [
    "df_cubic = df_test.copy()\n",
    "df_cubic.interpolate(method='cubic', order=3,inplace=True)"
   ]
  },
  {
   "cell_type": "code",
   "execution_count": 14,
   "id": "9fec919f-108a-4740-846e-312df7db22f4",
   "metadata": {
    "tags": []
   },
   "outputs": [],
   "source": [
    "errors_list = [mean_absolute_error(df_cubic[target], df[target][:1000]),\n",
    "               mean_squared_error(df_cubic[target], df[target][:1000]),\n",
    "              r2_score(df_cubic[target], df[target][:1000])]\n",
    "\n",
    "errors_cubic = pd.Series(errors_list,  index=['MAE','MSE', 'R2'])"
   ]
  },
  {
   "cell_type": "markdown",
   "id": "cd30f8c1-90d8-4eff-a86f-d3544adb9afe",
   "metadata": {},
   "source": [
    "#### Plotting"
   ]
  },
  {
   "cell_type": "code",
   "execution_count": 15,
   "id": "207a304a-4f61-4894-81f2-ea54dbe5361e",
   "metadata": {},
   "outputs": [
    {
     "data": {
      "image/png": "[encoded data removed]",
      "text/plain": [
       "<Figure size 864x432 with 1 Axes>"
      ]
     },
     "metadata": {
      "needs_background": "light"
     },
     "output_type": "display_data"
    }
   ],
   "source": [
    "plt.style.use('seaborn-poster')\n",
    "plt.figure(figsize=(12,6))\n",
    "\n",
    "df[target][nan_list[10]-15:nan_list[11]+15].plot(label=f'Actual values')\n",
    "df_cubic[target][nan_list[10]-15:nan_list[11]+15].plot(linestyle='--', label=f'Cubic Interpolation')\n",
    "df_linear[target][nan_list[10]-15:nan_list[11]+15].plot(linestyle='--', label=f'Linear Interpolation')\n",
    "df_knn[target][nan_list[10]-15:nan_list[11]+15].plot(linestyle='--', label=f'KNN Imputation')\n",
    "\n",
    "plt.title(f\"Filling {target} Missing Values\")\n",
    "plt.legend()\n",
    "plt.ylabel(f\"{target}\")\n",
    "plt.tight_layout()\n",
    "plt.savefig(f'Plots/imputation/{target_name}_Imputation.png')\n",
    "plt.show()"
   ]
  },
  {
   "cell_type": "markdown",
   "id": "4c049d35-4c73-4a14-9ccb-c2fba9c9d0ec",
   "metadata": {},
   "source": [
    "#### Errors concat"
   ]
  },
  {
   "cell_type": "code",
   "execution_count": 16,
   "id": "264b78b4-8b2d-400b-863f-e336388ff3b9",
   "metadata": {},
   "outputs": [
    {
     "data": {
      "text/html": [
       "<div>\n",
       "<style scoped>\n",
       "    .dataframe tbody tr th:only-of-type {\n",
       "        vertical-align: middle;\n",
       "    }\n",
       "\n",
       "    .dataframe tbody tr th {\n",
       "        vertical-align: top;\n",
       "    }\n",
       "\n",
       "    .dataframe thead th {\n",
       "        text-align: right;\n",
       "    }\n",
       "</style>\n",
       "<table border=\"1\" class=\"dataframe\">\n",
       "  <thead>\n",
       "    <tr style=\"text-align: right;\">\n",
       "      <th></th>\n",
       "      <th>MAE</th>\n",
       "      <th>MSE</th>\n",
       "      <th>R2</th>\n",
       "    </tr>\n",
       "  </thead>\n",
       "  <tbody>\n",
       "    <tr>\n",
       "      <th>KNN</th>\n",
       "      <td>0.676</td>\n",
       "      <td>6.056</td>\n",
       "      <td>0.975</td>\n",
       "    </tr>\n",
       "    <tr>\n",
       "      <th>Linear</th>\n",
       "      <td>0.167</td>\n",
       "      <td>0.338</td>\n",
       "      <td>0.999</td>\n",
       "    </tr>\n",
       "    <tr>\n",
       "      <th>Cubic</th>\n",
       "      <td>0.310</td>\n",
       "      <td>1.627</td>\n",
       "      <td>0.993</td>\n",
       "    </tr>\n",
       "  </tbody>\n",
       "</table>\n",
       "</div>"
      ],
      "text/plain": [
       "          MAE    MSE     R2\n",
       "KNN     0.676  6.056  0.975\n",
       "Linear  0.167  0.338  0.999\n",
       "Cubic   0.310  1.627  0.993"
      ]
     },
     "execution_count": 16,
     "metadata": {},
     "output_type": "execute_result"
    }
   ],
   "source": [
    "errors = pd.concat([errors_knn, errors_linear, errors_cubic], axis=1)\n",
    "errors.columns = ['KNN', 'Linear', 'Cubic']\n",
    "errors.round(3).T"
   ]
  },
  {
   "cell_type": "markdown",
   "id": "37e8b42f-57f5-460a-8da8-c1e39ab0ceb4",
   "metadata": {},
   "source": [
    "### Real: KNN Best"
   ]
  },
  {
   "cell_type": "code",
   "execution_count": 17,
   "id": "86f6521d-e84d-45d6-a921-d0c3e3359139",
   "metadata": {
    "tags": []
   },
   "outputs": [
    {
     "data": {
      "text/plain": [
       "Dew Point (C)    0\n",
       "H2S (ppb)        0\n",
       "NO2 (ppb)        0\n",
       "Humidity (%)     0\n",
       "O3 (ppb)         0\n",
       "PM1 (ug/m3)      0\n",
       "PM2.5 (ug/m3)    0\n",
       "PM10 (ug/m3)     0\n",
       "Temp (C)         0\n",
       "dtype: int64"
      ]
     },
     "execution_count": 17,
     "metadata": {},
     "output_type": "execute_result"
    }
   ],
   "source": [
    "df[:] = imputer.fit_transform(df)\n",
    "df.isna().sum()"
   ]
  },
  {
   "cell_type": "markdown",
   "id": "ec0b3d69-fff1-4af5-a2c9-a00bf75e8cda",
   "metadata": {},
   "source": [
    "### Hourly mean"
   ]
  },
  {
   "cell_type": "code",
   "execution_count": 18,
   "id": "7fd7d936-fdda-48fc-a760-99cdf1f6df41",
   "metadata": {},
   "outputs": [
    {
     "data": {
      "text/html": [
       "<div>\n",
       "<style scoped>\n",
       "    .dataframe tbody tr th:only-of-type {\n",
       "        vertical-align: middle;\n",
       "    }\n",
       "\n",
       "    .dataframe tbody tr th {\n",
       "        vertical-align: top;\n",
       "    }\n",
       "\n",
       "    .dataframe thead th {\n",
       "        text-align: right;\n",
       "    }\n",
       "</style>\n",
       "<table border=\"1\" class=\"dataframe\">\n",
       "  <thead>\n",
       "    <tr style=\"text-align: right;\">\n",
       "      <th></th>\n",
       "      <th>Dew Point (C)</th>\n",
       "      <th>H2S (ppb)</th>\n",
       "      <th>NO2 (ppb)</th>\n",
       "      <th>Humidity (%)</th>\n",
       "      <th>O3 (ppb)</th>\n",
       "      <th>PM1 (ug/m3)</th>\n",
       "      <th>PM2.5 (ug/m3)</th>\n",
       "      <th>PM10 (ug/m3)</th>\n",
       "      <th>Temp (C)</th>\n",
       "    </tr>\n",
       "    <tr>\n",
       "      <th>Datetime</th>\n",
       "      <th></th>\n",
       "      <th></th>\n",
       "      <th></th>\n",
       "      <th></th>\n",
       "      <th></th>\n",
       "      <th></th>\n",
       "      <th></th>\n",
       "      <th></th>\n",
       "      <th></th>\n",
       "    </tr>\n",
       "  </thead>\n",
       "  <tbody>\n",
       "    <tr>\n",
       "      <th>2022-04-10 00:00:00</th>\n",
       "      <td>9.74</td>\n",
       "      <td>16.60</td>\n",
       "      <td>60.03</td>\n",
       "      <td>42.00</td>\n",
       "      <td>0.00</td>\n",
       "      <td>6.61</td>\n",
       "      <td>8.56</td>\n",
       "      <td>12.61</td>\n",
       "      <td>17.60</td>\n",
       "    </tr>\n",
       "    <tr>\n",
       "      <th>2022-04-10 01:00:00</th>\n",
       "      <td>9.55</td>\n",
       "      <td>11.56</td>\n",
       "      <td>59.00</td>\n",
       "      <td>38.98</td>\n",
       "      <td>0.00</td>\n",
       "      <td>6.22</td>\n",
       "      <td>8.15</td>\n",
       "      <td>12.43</td>\n",
       "      <td>17.67</td>\n",
       "    </tr>\n",
       "    <tr>\n",
       "      <th>2022-04-10 02:00:00</th>\n",
       "      <td>9.39</td>\n",
       "      <td>13.33</td>\n",
       "      <td>59.05</td>\n",
       "      <td>37.07</td>\n",
       "      <td>0.00</td>\n",
       "      <td>6.26</td>\n",
       "      <td>8.22</td>\n",
       "      <td>12.04</td>\n",
       "      <td>17.49</td>\n",
       "    </tr>\n",
       "    <tr>\n",
       "      <th>2022-04-10 03:00:00</th>\n",
       "      <td>8.08</td>\n",
       "      <td>1.31</td>\n",
       "      <td>58.41</td>\n",
       "      <td>29.14</td>\n",
       "      <td>4.68</td>\n",
       "      <td>4.69</td>\n",
       "      <td>6.38</td>\n",
       "      <td>8.87</td>\n",
       "      <td>16.26</td>\n",
       "    </tr>\n",
       "    <tr>\n",
       "      <th>2022-04-10 04:00:00</th>\n",
       "      <td>7.46</td>\n",
       "      <td>0.33</td>\n",
       "      <td>58.28</td>\n",
       "      <td>29.25</td>\n",
       "      <td>2.04</td>\n",
       "      <td>3.49</td>\n",
       "      <td>4.99</td>\n",
       "      <td>7.16</td>\n",
       "      <td>15.64</td>\n",
       "    </tr>\n",
       "  </tbody>\n",
       "</table>\n",
       "</div>"
      ],
      "text/plain": [
       "                     Dew Point (C)  H2S (ppb)  NO2 (ppb)  Humidity (%)  \\\n",
       "Datetime                                                                 \n",
       "2022-04-10 00:00:00           9.74      16.60      60.03         42.00   \n",
       "2022-04-10 01:00:00           9.55      11.56      59.00         38.98   \n",
       "2022-04-10 02:00:00           9.39      13.33      59.05         37.07   \n",
       "2022-04-10 03:00:00           8.08       1.31      58.41         29.14   \n",
       "2022-04-10 04:00:00           7.46       0.33      58.28         29.25   \n",
       "\n",
       "                     O3 (ppb)  PM1 (ug/m3)  PM2.5 (ug/m3)  PM10 (ug/m3)  \\\n",
       "Datetime                                                                  \n",
       "2022-04-10 00:00:00      0.00         6.61           8.56         12.61   \n",
       "2022-04-10 01:00:00      0.00         6.22           8.15         12.43   \n",
       "2022-04-10 02:00:00      0.00         6.26           8.22         12.04   \n",
       "2022-04-10 03:00:00      4.68         4.69           6.38          8.87   \n",
       "2022-04-10 04:00:00      2.04         3.49           4.99          7.16   \n",
       "\n",
       "                     Temp (C)  \n",
       "Datetime                       \n",
       "2022-04-10 00:00:00     17.60  \n",
       "2022-04-10 01:00:00     17.67  \n",
       "2022-04-10 02:00:00     17.49  \n",
       "2022-04-10 03:00:00     16.26  \n",
       "2022-04-10 04:00:00     15.64  "
      ]
     },
     "execution_count": 18,
     "metadata": {},
     "output_type": "execute_result"
    }
   ],
   "source": [
    "df_hour = round(df.resample('H').mean(),2)\n",
    "df_hour.head()"
   ]
  },
  {
   "cell_type": "code",
   "execution_count": 19,
   "id": "4c4650a7-4089-472f-881a-bd430270bc92",
   "metadata": {},
   "outputs": [],
   "source": [
    "df_hour.to_csv('kunak_filled.csv')"
   ]
  }
 ],
 "metadata": {
  "kernelspec": {
   "display_name": "Python 3",
   "language": "python",
   "name": "python3"
  },
  "language_info": {
   "codemirror_mode": {
    "name": "ipython",
    "version": 3
   },
   "file_extension": ".py",
   "mimetype": "text/x-python",
   "name": "python",
   "nbconvert_exporter": "python",
   "pygments_lexer": "ipython3",
   "version": "3.8.8"
  }
 },
 "nbformat": 4,
 "nbformat_minor": 5
}
